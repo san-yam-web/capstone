{
  "cells": [
    {
      "cell_type": "code",
      "execution_count": null,
      "metadata": {
        "colab": {
          "base_uri": "https://localhost:8080/"
        },
        "id": "KoAa_LtOzU1q",
        "outputId": "e41f6c54-37e5-45b6-9c5d-bb50b9cd48b2"
      },
      "outputs": [
        {
          "name": "stdout",
          "output_type": "stream",
          "text": [
            "Drive already mounted at /content/drive; to attempt to forcibly remount, call drive.mount(\"/content/drive\", force_remount=True).\n"
          ]
        }
      ],
      "source": [
        "from google.colab import drive\n",
        "drive.mount('/content/drive')"
      ]
    },
    {
      "cell_type": "markdown",
      "source": [],
      "metadata": {
        "id": "LkVyJS_SpepJ"
      }
    },
    {
      "cell_type": "code",
      "execution_count": null,
      "metadata": {
        "id": "N60czZZQzeIl"
      },
      "outputs": [],
      "source": [
        "import sqlite3\n",
        "import pandas as pd\n",
        "import numpy as np\n",
        "import matplotlib.pyplot as plt"
      ]
    },
    {
      "cell_type": "code",
      "execution_count": null,
      "metadata": {
        "id": "XcpzYxmNzrqX"
      },
      "outputs": [],
      "source": [
        "pd.set_option('display.max_rows', None)\n",
        "pd.set_option('display.max_columns', 1000)\n",
        "pd.set_option('display.width', 1000)"
      ]
    },
    {
      "cell_type": "code",
      "execution_count": null,
      "metadata": {
        "id": "DE-BsZAQz0iU"
      },
      "outputs": [],
      "source": [
        "# Load the CSV file from Google Drive\n",
        "file_path = '/content/drive/My Drive/months_combined.csv'\n",
        "copurchases = pd.read_csv(file_path)"
      ]
    },
    {
      "cell_type": "code",
      "execution_count": null,
      "metadata": {
        "colab": {
          "base_uri": "https://localhost:8080/",
          "height": 1000
        },
        "id": "ZOPrblja1FXY",
        "outputId": "58286900-7dae-488c-f774-38adfd368f88"
      },
      "outputs": [
        {
          "data": {
            "application/vnd.google.colaboratory.intrinsic+json": {
              "type": "dataframe",
              "variable_name": "copurchases"
            },
            "text/html": [
              "\n",
              "  <div id=\"df-f496759f-0baf-4c36-bbcb-2eefa0068caa\" class=\"colab-df-container\">\n",
              "    <div>\n",
              "<style scoped>\n",
              "    .dataframe tbody tr th:only-of-type {\n",
              "        vertical-align: middle;\n",
              "    }\n",
              "\n",
              "    .dataframe tbody tr th {\n",
              "        vertical-align: top;\n",
              "    }\n",
              "\n",
              "    .dataframe thead th {\n",
              "        text-align: right;\n",
              "    }\n",
              "</style>\n",
              "<table border=\"1\" class=\"dataframe\">\n",
              "  <thead>\n",
              "    <tr style=\"text-align: right;\">\n",
              "      <th></th>\n",
              "      <th>event_time</th>\n",
              "      <th>event_type</th>\n",
              "      <th>product_id</th>\n",
              "      <th>category_id</th>\n",
              "      <th>category_code</th>\n",
              "      <th>brand</th>\n",
              "      <th>price</th>\n",
              "      <th>user_id</th>\n",
              "      <th>user_session</th>\n",
              "      <th>hour</th>\n",
              "      <th>day_of_week</th>\n",
              "      <th>co_purchases</th>\n",
              "    </tr>\n",
              "  </thead>\n",
              "  <tbody>\n",
              "    <tr>\n",
              "      <th>0</th>\n",
              "      <td>2019-10-01 00:10:56+00:00</td>\n",
              "      <td>purchase</td>\n",
              "      <td>6200687</td>\n",
              "      <td>2053013552293216471</td>\n",
              "      <td>appliances.environment.air_heater</td>\n",
              "      <td>oasis</td>\n",
              "      <td>28.03</td>\n",
              "      <td>548691404</td>\n",
              "      <td>b67cdbcb-b073-4271-b365-803c6fce53b0</td>\n",
              "      <td>0</td>\n",
              "      <td>1</td>\n",
              "      <td>[6200806, 6200259, 6200704, 3800985, 6200724]</td>\n",
              "    </tr>\n",
              "    <tr>\n",
              "      <th>1</th>\n",
              "      <td>2019-10-01 02:29:01+00:00</td>\n",
              "      <td>purchase</td>\n",
              "      <td>3200361</td>\n",
              "      <td>2053013555321504139</td>\n",
              "      <td>appliances.kitchen.meat_grinder</td>\n",
              "      <td>philips</td>\n",
              "      <td>120.95</td>\n",
              "      <td>553819262</td>\n",
              "      <td>94b897fc-80c6-492c-a456-707398c7cc8e</td>\n",
              "      <td>2</td>\n",
              "      <td>1</td>\n",
              "      <td>[3200387, 3200310, 3200532, 3200439, 3200305]</td>\n",
              "    </tr>\n",
              "    <tr>\n",
              "      <th>2</th>\n",
              "      <td>2019-10-01 02:30:46+00:00</td>\n",
              "      <td>purchase</td>\n",
              "      <td>3100152</td>\n",
              "      <td>2053013555262783879</td>\n",
              "      <td>appliances.kitchen.blender</td>\n",
              "      <td>panasonic</td>\n",
              "      <td>51.46</td>\n",
              "      <td>527681026</td>\n",
              "      <td>feb31d4f-ceb5-4710-8a8e-391abeaca106</td>\n",
              "      <td>2</td>\n",
              "      <td>1</td>\n",
              "      <td>[3101064, 3100318, 3600661, 10900003, 10900113]</td>\n",
              "    </tr>\n",
              "    <tr>\n",
              "      <th>3</th>\n",
              "      <td>2019-10-01 02:34:23+00:00</td>\n",
              "      <td>purchase</td>\n",
              "      <td>3601485</td>\n",
              "      <td>2053013563810775923</td>\n",
              "      <td>appliances.kitchen.washer</td>\n",
              "      <td>lg</td>\n",
              "      <td>308.65</td>\n",
              "      <td>513419646</td>\n",
              "      <td>5e227e58-6117-419c-b45d-ac54be44716d</td>\n",
              "      <td>2</td>\n",
              "      <td>1</td>\n",
              "      <td>[2702347, 2702331, 3600661, 3600163, 3601603]</td>\n",
              "    </tr>\n",
              "    <tr>\n",
              "      <th>4</th>\n",
              "      <td>2019-10-01 02:34:45+00:00</td>\n",
              "      <td>purchase</td>\n",
              "      <td>3700127</td>\n",
              "      <td>2053013565983425517</td>\n",
              "      <td>appliances.environment.vacuum</td>\n",
              "      <td>lg</td>\n",
              "      <td>189.26</td>\n",
              "      <td>512584306</td>\n",
              "      <td>510447fa-8dee-4027-a80a-a17dab9260af</td>\n",
              "      <td>2</td>\n",
              "      <td>1</td>\n",
              "      <td>[2900958, 3700777, 3800310, 3701313, 3801416]</td>\n",
              "    </tr>\n",
              "    <tr>\n",
              "      <th>5</th>\n",
              "      <td>2019-10-01 02:35:05+00:00</td>\n",
              "      <td>purchase</td>\n",
              "      <td>3601244</td>\n",
              "      <td>2053013563810775923</td>\n",
              "      <td>appliances.kitchen.washer</td>\n",
              "      <td>lg</td>\n",
              "      <td>339.75</td>\n",
              "      <td>551646742</td>\n",
              "      <td>ba2abe11-273b-451c-b89d-c456cffa6501</td>\n",
              "      <td>2</td>\n",
              "      <td>1</td>\n",
              "      <td>[3600661, 3601437, 3601524, 3600163, 2702277]</td>\n",
              "    </tr>\n",
              "    <tr>\n",
              "      <th>6</th>\n",
              "      <td>2019-10-01 02:36:06+00:00</td>\n",
              "      <td>purchase</td>\n",
              "      <td>2800403</td>\n",
              "      <td>2053013563835941749</td>\n",
              "      <td>appliances.kitchen.refrigerators</td>\n",
              "      <td>NaN</td>\n",
              "      <td>204.33</td>\n",
              "      <td>516426855</td>\n",
              "      <td>788ec8fe-f198-4484-b911-ba5841c55c68</td>\n",
              "      <td>2</td>\n",
              "      <td>1</td>\n",
              "      <td>[2800037, 2800203, 2800433, 2701714, 2800439]</td>\n",
              "    </tr>\n",
              "    <tr>\n",
              "      <th>7</th>\n",
              "      <td>2019-10-01 02:38:28+00:00</td>\n",
              "      <td>purchase</td>\n",
              "      <td>3900045</td>\n",
              "      <td>2053013552326770905</td>\n",
              "      <td>appliances.environment.water_heater</td>\n",
              "      <td>thermex</td>\n",
              "      <td>84.94</td>\n",
              "      <td>513172531</td>\n",
              "      <td>6b4b047d-5800-49ec-ba3d-ae545eff60e8</td>\n",
              "      <td>2</td>\n",
              "      <td>1</td>\n",
              "      <td>[11200239, 3601485]</td>\n",
              "    </tr>\n",
              "    <tr>\n",
              "      <th>8</th>\n",
              "      <td>2019-10-01 02:39:58+00:00</td>\n",
              "      <td>purchase</td>\n",
              "      <td>2700920</td>\n",
              "      <td>2053013563911439225</td>\n",
              "      <td>appliances.kitchen.refrigerators</td>\n",
              "      <td>midea</td>\n",
              "      <td>810.81</td>\n",
              "      <td>512416959</td>\n",
              "      <td>4adbf59b-f0b6-4951-8829-12ad5a3f683a</td>\n",
              "      <td>2</td>\n",
              "      <td>1</td>\n",
              "      <td>[2800385, 2702496, 3601505, 4501554, 2502094]</td>\n",
              "    </tr>\n",
              "    <tr>\n",
              "      <th>9</th>\n",
              "      <td>2019-10-01 02:43:07+00:00</td>\n",
              "      <td>purchase</td>\n",
              "      <td>8700483</td>\n",
              "      <td>2053013563097744201</td>\n",
              "      <td>appliances.personal.hair_cutter</td>\n",
              "      <td>moser</td>\n",
              "      <td>47.88</td>\n",
              "      <td>514018346</td>\n",
              "      <td>35323009-6410-4412-930e-e7855384a5da</td>\n",
              "      <td>2</td>\n",
              "      <td>1</td>\n",
              "      <td>[]</td>\n",
              "    </tr>\n",
              "  </tbody>\n",
              "</table>\n",
              "</div>\n",
              "    <div class=\"colab-df-buttons\">\n",
              "\n",
              "  <div class=\"colab-df-container\">\n",
              "    <button class=\"colab-df-convert\" onclick=\"convertToInteractive('df-f496759f-0baf-4c36-bbcb-2eefa0068caa')\"\n",
              "            title=\"Convert this dataframe to an interactive table.\"\n",
              "            style=\"display:none;\">\n",
              "\n",
              "  <svg xmlns=\"http://www.w3.org/2000/svg\" height=\"24px\" viewBox=\"0 -960 960 960\">\n",
              "    <path d=\"M120-120v-720h720v720H120Zm60-500h600v-160H180v160Zm220 220h160v-160H400v160Zm0 220h160v-160H400v160ZM180-400h160v-160H180v160Zm440 0h160v-160H620v160ZM180-180h160v-160H180v160Zm440 0h160v-160H620v160Z\"/>\n",
              "  </svg>\n",
              "    </button>\n",
              "\n",
              "  <style>\n",
              "    .colab-df-container {\n",
              "      display:flex;\n",
              "      gap: 12px;\n",
              "    }\n",
              "\n",
              "    .colab-df-convert {\n",
              "      background-color: #E8F0FE;\n",
              "      border: none;\n",
              "      border-radius: 50%;\n",
              "      cursor: pointer;\n",
              "      display: none;\n",
              "      fill: #1967D2;\n",
              "      height: 32px;\n",
              "      padding: 0 0 0 0;\n",
              "      width: 32px;\n",
              "    }\n",
              "\n",
              "    .colab-df-convert:hover {\n",
              "      background-color: #E2EBFA;\n",
              "      box-shadow: 0px 1px 2px rgba(60, 64, 67, 0.3), 0px 1px 3px 1px rgba(60, 64, 67, 0.15);\n",
              "      fill: #174EA6;\n",
              "    }\n",
              "\n",
              "    .colab-df-buttons div {\n",
              "      margin-bottom: 4px;\n",
              "    }\n",
              "\n",
              "    [theme=dark] .colab-df-convert {\n",
              "      background-color: #3B4455;\n",
              "      fill: #D2E3FC;\n",
              "    }\n",
              "\n",
              "    [theme=dark] .colab-df-convert:hover {\n",
              "      background-color: #434B5C;\n",
              "      box-shadow: 0px 1px 3px 1px rgba(0, 0, 0, 0.15);\n",
              "      filter: drop-shadow(0px 1px 2px rgba(0, 0, 0, 0.3));\n",
              "      fill: #FFFFFF;\n",
              "    }\n",
              "  </style>\n",
              "\n",
              "    <script>\n",
              "      const buttonEl =\n",
              "        document.querySelector('#df-f496759f-0baf-4c36-bbcb-2eefa0068caa button.colab-df-convert');\n",
              "      buttonEl.style.display =\n",
              "        google.colab.kernel.accessAllowed ? 'block' : 'none';\n",
              "\n",
              "      async function convertToInteractive(key) {\n",
              "        const element = document.querySelector('#df-f496759f-0baf-4c36-bbcb-2eefa0068caa');\n",
              "        const dataTable =\n",
              "          await google.colab.kernel.invokeFunction('convertToInteractive',\n",
              "                                                    [key], {});\n",
              "        if (!dataTable) return;\n",
              "\n",
              "        const docLinkHtml = 'Like what you see? Visit the ' +\n",
              "          '<a target=\"_blank\" href=https://colab.research.google.com/notebooks/data_table.ipynb>data table notebook</a>'\n",
              "          + ' to learn more about interactive tables.';\n",
              "        element.innerHTML = '';\n",
              "        dataTable['output_type'] = 'display_data';\n",
              "        await google.colab.output.renderOutput(dataTable, element);\n",
              "        const docLink = document.createElement('div');\n",
              "        docLink.innerHTML = docLinkHtml;\n",
              "        element.appendChild(docLink);\n",
              "      }\n",
              "    </script>\n",
              "  </div>\n",
              "\n",
              "\n",
              "<div id=\"df-9e864932-dc50-457a-8063-dfc2f90e200f\">\n",
              "  <button class=\"colab-df-quickchart\" onclick=\"quickchart('df-9e864932-dc50-457a-8063-dfc2f90e200f')\"\n",
              "            title=\"Suggest charts\"\n",
              "            style=\"display:none;\">\n",
              "\n",
              "<svg xmlns=\"http://www.w3.org/2000/svg\" height=\"24px\"viewBox=\"0 0 24 24\"\n",
              "     width=\"24px\">\n",
              "    <g>\n",
              "        <path d=\"M19 3H5c-1.1 0-2 .9-2 2v14c0 1.1.9 2 2 2h14c1.1 0 2-.9 2-2V5c0-1.1-.9-2-2-2zM9 17H7v-7h2v7zm4 0h-2V7h2v10zm4 0h-2v-4h2v4z\"/>\n",
              "    </g>\n",
              "</svg>\n",
              "  </button>\n",
              "\n",
              "<style>\n",
              "  .colab-df-quickchart {\n",
              "      --bg-color: #E8F0FE;\n",
              "      --fill-color: #1967D2;\n",
              "      --hover-bg-color: #E2EBFA;\n",
              "      --hover-fill-color: #174EA6;\n",
              "      --disabled-fill-color: #AAA;\n",
              "      --disabled-bg-color: #DDD;\n",
              "  }\n",
              "\n",
              "  [theme=dark] .colab-df-quickchart {\n",
              "      --bg-color: #3B4455;\n",
              "      --fill-color: #D2E3FC;\n",
              "      --hover-bg-color: #434B5C;\n",
              "      --hover-fill-color: #FFFFFF;\n",
              "      --disabled-bg-color: #3B4455;\n",
              "      --disabled-fill-color: #666;\n",
              "  }\n",
              "\n",
              "  .colab-df-quickchart {\n",
              "    background-color: var(--bg-color);\n",
              "    border: none;\n",
              "    border-radius: 50%;\n",
              "    cursor: pointer;\n",
              "    display: none;\n",
              "    fill: var(--fill-color);\n",
              "    height: 32px;\n",
              "    padding: 0;\n",
              "    width: 32px;\n",
              "  }\n",
              "\n",
              "  .colab-df-quickchart:hover {\n",
              "    background-color: var(--hover-bg-color);\n",
              "    box-shadow: 0 1px 2px rgba(60, 64, 67, 0.3), 0 1px 3px 1px rgba(60, 64, 67, 0.15);\n",
              "    fill: var(--button-hover-fill-color);\n",
              "  }\n",
              "\n",
              "  .colab-df-quickchart-complete:disabled,\n",
              "  .colab-df-quickchart-complete:disabled:hover {\n",
              "    background-color: var(--disabled-bg-color);\n",
              "    fill: var(--disabled-fill-color);\n",
              "    box-shadow: none;\n",
              "  }\n",
              "\n",
              "  .colab-df-spinner {\n",
              "    border: 2px solid var(--fill-color);\n",
              "    border-color: transparent;\n",
              "    border-bottom-color: var(--fill-color);\n",
              "    animation:\n",
              "      spin 1s steps(1) infinite;\n",
              "  }\n",
              "\n",
              "  @keyframes spin {\n",
              "    0% {\n",
              "      border-color: transparent;\n",
              "      border-bottom-color: var(--fill-color);\n",
              "      border-left-color: var(--fill-color);\n",
              "    }\n",
              "    20% {\n",
              "      border-color: transparent;\n",
              "      border-left-color: var(--fill-color);\n",
              "      border-top-color: var(--fill-color);\n",
              "    }\n",
              "    30% {\n",
              "      border-color: transparent;\n",
              "      border-left-color: var(--fill-color);\n",
              "      border-top-color: var(--fill-color);\n",
              "      border-right-color: var(--fill-color);\n",
              "    }\n",
              "    40% {\n",
              "      border-color: transparent;\n",
              "      border-right-color: var(--fill-color);\n",
              "      border-top-color: var(--fill-color);\n",
              "    }\n",
              "    60% {\n",
              "      border-color: transparent;\n",
              "      border-right-color: var(--fill-color);\n",
              "    }\n",
              "    80% {\n",
              "      border-color: transparent;\n",
              "      border-right-color: var(--fill-color);\n",
              "      border-bottom-color: var(--fill-color);\n",
              "    }\n",
              "    90% {\n",
              "      border-color: transparent;\n",
              "      border-bottom-color: var(--fill-color);\n",
              "    }\n",
              "  }\n",
              "</style>\n",
              "\n",
              "  <script>\n",
              "    async function quickchart(key) {\n",
              "      const quickchartButtonEl =\n",
              "        document.querySelector('#' + key + ' button');\n",
              "      quickchartButtonEl.disabled = true;  // To prevent multiple clicks.\n",
              "      quickchartButtonEl.classList.add('colab-df-spinner');\n",
              "      try {\n",
              "        const charts = await google.colab.kernel.invokeFunction(\n",
              "            'suggestCharts', [key], {});\n",
              "      } catch (error) {\n",
              "        console.error('Error during call to suggestCharts:', error);\n",
              "      }\n",
              "      quickchartButtonEl.classList.remove('colab-df-spinner');\n",
              "      quickchartButtonEl.classList.add('colab-df-quickchart-complete');\n",
              "    }\n",
              "    (() => {\n",
              "      let quickchartButtonEl =\n",
              "        document.querySelector('#df-9e864932-dc50-457a-8063-dfc2f90e200f button');\n",
              "      quickchartButtonEl.style.display =\n",
              "        google.colab.kernel.accessAllowed ? 'block' : 'none';\n",
              "    })();\n",
              "  </script>\n",
              "</div>\n",
              "    </div>\n",
              "  </div>\n"
            ],
            "text/plain": [
              "                  event_time event_type  product_id          category_id                        category_code      brand   price    user_id                          user_session  hour  day_of_week                                     co_purchases\n",
              "0  2019-10-01 00:10:56+00:00   purchase     6200687  2053013552293216471    appliances.environment.air_heater      oasis   28.03  548691404  b67cdbcb-b073-4271-b365-803c6fce53b0     0            1    [6200806, 6200259, 6200704, 3800985, 6200724]\n",
              "1  2019-10-01 02:29:01+00:00   purchase     3200361  2053013555321504139      appliances.kitchen.meat_grinder    philips  120.95  553819262  94b897fc-80c6-492c-a456-707398c7cc8e     2            1    [3200387, 3200310, 3200532, 3200439, 3200305]\n",
              "2  2019-10-01 02:30:46+00:00   purchase     3100152  2053013555262783879           appliances.kitchen.blender  panasonic   51.46  527681026  feb31d4f-ceb5-4710-8a8e-391abeaca106     2            1  [3101064, 3100318, 3600661, 10900003, 10900113]\n",
              "3  2019-10-01 02:34:23+00:00   purchase     3601485  2053013563810775923            appliances.kitchen.washer         lg  308.65  513419646  5e227e58-6117-419c-b45d-ac54be44716d     2            1    [2702347, 2702331, 3600661, 3600163, 3601603]\n",
              "4  2019-10-01 02:34:45+00:00   purchase     3700127  2053013565983425517        appliances.environment.vacuum         lg  189.26  512584306  510447fa-8dee-4027-a80a-a17dab9260af     2            1    [2900958, 3700777, 3800310, 3701313, 3801416]\n",
              "5  2019-10-01 02:35:05+00:00   purchase     3601244  2053013563810775923            appliances.kitchen.washer         lg  339.75  551646742  ba2abe11-273b-451c-b89d-c456cffa6501     2            1    [3600661, 3601437, 3601524, 3600163, 2702277]\n",
              "6  2019-10-01 02:36:06+00:00   purchase     2800403  2053013563835941749     appliances.kitchen.refrigerators        NaN  204.33  516426855  788ec8fe-f198-4484-b911-ba5841c55c68     2            1    [2800037, 2800203, 2800433, 2701714, 2800439]\n",
              "7  2019-10-01 02:38:28+00:00   purchase     3900045  2053013552326770905  appliances.environment.water_heater    thermex   84.94  513172531  6b4b047d-5800-49ec-ba3d-ae545eff60e8     2            1                              [11200239, 3601485]\n",
              "8  2019-10-01 02:39:58+00:00   purchase     2700920  2053013563911439225     appliances.kitchen.refrigerators      midea  810.81  512416959  4adbf59b-f0b6-4951-8829-12ad5a3f683a     2            1    [2800385, 2702496, 3601505, 4501554, 2502094]\n",
              "9  2019-10-01 02:43:07+00:00   purchase     8700483  2053013563097744201      appliances.personal.hair_cutter      moser   47.88  514018346  35323009-6410-4412-930e-e7855384a5da     2            1                                               []"
            ]
          },
          "execution_count": 5,
          "metadata": {},
          "output_type": "execute_result"
        }
      ],
      "source": [
        "copurchases.head(10)"
      ]
    },
    {
      "cell_type": "code",
      "execution_count": null,
      "metadata": {
        "colab": {
          "base_uri": "https://localhost:8080/"
        },
        "id": "5cQAionV0lOc",
        "outputId": "1cfb0ca7-9fdf-4e6d-ffc1-8186e1ff142c"
      },
      "outputs": [
        {
          "name": "stdout",
          "output_type": "stream",
          "text": [
            "Number of rows before filtering: 174022\n",
            "Number of rows after filtering: 161120\n",
            "                       event_time event_type  product_id          category_id                        category_code       brand   price    user_id                          user_session  hour  day_of_week                                     co_purchases\n",
            "100426  2019-11-12 16:17:33+00:00   purchase     2501352  2053013564003713919              appliances.kitchen.oven        beko  241.63  565475598  76062421-36b3-40c5-a0fe-61f878c780e6    16            1    [2501357, 2501301, 4501190, 4501474, 2501796]\n",
            "168443  2019-11-29 06:06:30+00:00   purchase     3900435  2053013552326770905  appliances.environment.water_heater  electrolux   97.79  576310172  6832d5cf-a120-4fa5-aa5d-d3fee013cee9     6            4                      [3900840, 3600661, 3900002]\n",
            "151494  2019-11-21 08:14:48+00:00   purchase     3700756  2053013565983425517        appliances.environment.vacuum     samsung  110.66  517764787  e0fc1a15-ed4a-4547-91c2-541711c01c29     8            3   [2900958, 3600666, 3700245, 19300011, 2701685]\n",
            "114793  2019-11-17 04:06:43+00:00   purchase     3700926  2053013565983425517        appliances.environment.vacuum     samsung   68.98  572253921  6eab0e0d-09ff-4a42-b704-c40318b5b975     4            6    [3900815, 3701056, 3600661, 3801134, 3700766]\n",
            "26800   2019-10-13 05:58:06+00:00   purchase     3601128  2053013563810775923            appliances.kitchen.washer          lg  601.56  558993350  a42f4184-d037-48f9-a06f-d7912f665c4d     5            6                                        [3601402]\n",
            "102019  2019-11-13 12:47:55+00:00   purchase     3701495  2053013565983425517        appliances.environment.vacuum    dauscher   38.33  545895716  805bd7cf-f414-4d27-b977-bf999b7a2fac    12            2   [19300055, 6200806, 6302003, 3701244, 6301980]\n",
            "36689   2019-10-16 08:00:19+00:00   purchase     2700609  2053013563911439225     appliances.kitchen.refrigerators     indesit  308.60  554021177  7947539d-0ced-4d6c-aa41-2091a8f019ee     8            2    [2700611, 2702331, 3600661, 2701646, 2702347]\n",
            "114448  2019-11-17 03:48:30+00:00   purchase     3601535  2053013563810775923            appliances.kitchen.washer     samsung  386.08  564611850  3b6f4c01-1651-48b6-be2e-9593b8402d0e     3            6    [2702347, 3600661, 3600263, 2701305, 2700406]\n",
            "87948   2019-11-07 06:05:54+00:00   purchase     6300465  2053013554834964853            appliances.kitchen.kettle    elenberg   10.27  561620565  3d76ef9d-333c-41e6-8932-49a63c6f60a2     6            3    [3601406, 3800979, 3601405, 3900002, 6301351]\n",
            "48823   2019-10-20 12:00:45+00:00   purchase     3801134  2053013566176363511                      appliances.iron    elenberg   16.47  541773137  0c7ba035-de04-45c6-bf20-9a44a570394f    12            6  [3700926, 19300014, 3600163, 3800548, 19300039]\n"
          ]
        }
      ],
      "source": [
        "# Convert the 'co_purchases' column from string to list if necessary\n",
        "import ast\n",
        "\n",
        "def convert_to_list(co_purchases):\n",
        "    try:\n",
        "        return ast.literal_eval(co_purchases)\n",
        "    except:\n",
        "        return []\n",
        "\n",
        "copurchases['co_purchases'] = copurchases['co_purchases'].apply(convert_to_list)\n",
        "\n",
        "# Filter out rows where 'co_purchases' is empty\n",
        "filtered_purchases_df = copurchases[copurchases['co_purchases'].apply(len) > 0]\n",
        "\n",
        "# Display the number of rows before and after filtering\n",
        "print(f\"Number of rows before filtering: {len(copurchases)}\")\n",
        "print(f\"Number of rows after filtering: {len(filtered_purchases_df)}\")\n",
        "\n",
        "# Display the filtered DataFrame (sample)\n",
        "print(filtered_purchases_df.sample(10))\n"
      ]
    },
    {
      "cell_type": "code",
      "execution_count": null,
      "metadata": {
        "colab": {
          "base_uri": "https://localhost:8080/",
          "height": 35
        },
        "id": "VKoMtL5T1bTj",
        "outputId": "fd3a8f13-ade1-45bc-d127-62c39a50ee63"
      },
      "outputs": [
        {
          "name": "stdout",
          "output_type": "stream",
          "text": [
            "Filtered DataFrame saved to /content/drive/My Drive/filtered_purchases_df.csv\n"
          ]
        },
        {
          "data": {
            "application/javascript": [
              "\n",
              "    async function download(id, filename, size) {\n",
              "      if (!google.colab.kernel.accessAllowed) {\n",
              "        return;\n",
              "      }\n",
              "      const div = document.createElement('div');\n",
              "      const label = document.createElement('label');\n",
              "      label.textContent = `Downloading \"${filename}\": `;\n",
              "      div.appendChild(label);\n",
              "      const progress = document.createElement('progress');\n",
              "      progress.max = size;\n",
              "      div.appendChild(progress);\n",
              "      document.body.appendChild(div);\n",
              "\n",
              "      const buffers = [];\n",
              "      let downloaded = 0;\n",
              "\n",
              "      const channel = await google.colab.kernel.comms.open(id);\n",
              "      // Send a message to notify the kernel that we're ready.\n",
              "      channel.send({})\n",
              "\n",
              "      for await (const message of channel.messages) {\n",
              "        // Send a message to notify the kernel that we're ready.\n",
              "        channel.send({})\n",
              "        if (message.buffers) {\n",
              "          for (const buffer of message.buffers) {\n",
              "            buffers.push(buffer);\n",
              "            downloaded += buffer.byteLength;\n",
              "            progress.value = downloaded;\n",
              "          }\n",
              "        }\n",
              "      }\n",
              "      const blob = new Blob(buffers, {type: 'application/binary'});\n",
              "      const a = document.createElement('a');\n",
              "      a.href = window.URL.createObjectURL(blob);\n",
              "      a.download = filename;\n",
              "      div.appendChild(a);\n",
              "      a.click();\n",
              "      div.remove();\n",
              "    }\n",
              "  "
            ],
            "text/plain": [
              "<IPython.core.display.Javascript object>"
            ]
          },
          "metadata": {},
          "output_type": "display_data"
        },
        {
          "data": {
            "application/javascript": [
              "download(\"download_d032e25a-50aa-4d3d-843d-e77ef62ddcf7\", \"filtered_purchases_df.csv\", 32228044)"
            ],
            "text/plain": [
              "<IPython.core.display.Javascript object>"
            ]
          },
          "metadata": {},
          "output_type": "display_data"
        }
      ],
      "source": [
        "filtered_file_path = '/content/drive/My Drive/filtered_purchases_df.csv'\n",
        "filtered_purchases_df.to_csv(filtered_file_path, index=False)\n",
        "print(f\"Filtered DataFrame saved to {filtered_file_path}\")\n",
        "\n",
        "# Download the file if needed\n",
        "from google.colab import files\n",
        "files.download(filtered_file_path)"
      ]
    },
    {
      "cell_type": "code",
      "execution_count": null,
      "metadata": {
        "colab": {
          "base_uri": "https://localhost:8080/"
        },
        "id": "HT38comiVl2k",
        "outputId": "13b95694-e6a4-4cf4-88f4-3026393350e0"
      },
      "outputs": [
        {
          "name": "stdout",
          "output_type": "stream",
          "text": [
            "user_session\n",
            "0000be48-eb0e-43e6-8b78-25f8bd078926    [{'product_id': 3900686, 'category_code': 'app...\n",
            "00012854-9b58-45b6-af66-d61a0039530f    [{'product_id': 3701056, 'category_code': 'app...\n",
            "00027924-8be6-46cb-a497-150fec7789df    [{'product_id': 2900958, 'category_code': 'app...\n",
            "0002aaf2-77fd-4cbb-98bb-bbeedf076d90    [{'product_id': 2700344, 'category_code': 'app...\n",
            "0002f017-b528-4b9d-92ad-de2354c118c2    [{'product_id': 3100640, 'category_code': 'app...\n",
            "dtype: object\n"
          ]
        }
      ],
      "source": [
        "# Group products by session\n",
        "sessions = filtered_purchases_df.groupby('user_session').apply(lambda x: x[['product_id', 'category_code']].to_dict('records'))\n",
        "\n",
        "# Display some sessions\n",
        "print(sessions.head())\n"
      ]
    },
    {
      "cell_type": "code",
      "execution_count": null,
      "metadata": {
        "colab": {
          "base_uri": "https://localhost:8080/"
        },
        "id": "vYKOi4NTOoPS",
        "outputId": "6fcabeff-1abf-4b4b-80a9-3639d6e969ae"
      },
      "outputs": [
        {
          "name": "stdout",
          "output_type": "stream",
          "text": [
            "{3900686: [(3900685, 'appliances.environment.water_heater'), (4200542, 'appliances.environment.air_conditioner'), (3600219, 'appliances.kitchen.washer'), (2800468, 'appliances.kitchen.refrigerators'), (2401201, 'appliances.kitchen.hood'), (3900688, 'appliances.environment.water_heater'), (3900773, 'appliances.environment.water_heater'), (3200140, 'appliances.kitchen.meat_grinder'), (3700907, 'appliances.environment.vacuum'), (2800194, 'appliances.kitchen.refrigerators'), (3601437, 'appliances.kitchen.washer'), (3601636, 'appliances.kitchen.washer'), (3100491, 'appliances.kitchen.blender')], 3701056: [(3701088, 'appliances.environment.vacuum'), (3700912, 'appliances.environment.vacuum'), (2702347, 'appliances.kitchen.refrigerators'), (2900090, 'appliances.kitchen.microwave'), (3700278, 'appliances.environment.vacuum'), (3600182, 'appliances.kitchen.washer'), (3700683, 'appliances.environment.vacuum'), (3701134, 'appliances.environment.vacuum'), (2702263, 'appliances.kitchen.refrigerators'), (3200429, 'appliances.kitchen.meat_grinder'), (3600666, 'appliances.kitchen.washer'), (2700588, 'appliances.kitchen.refrigerators'), (2701827, 'appliances.kitchen.refrigerators'), (3600937, 'appliances.kitchen.washer'), (3800985, 'appliances.iron'), (3701244, 'appliances.environment.vacuum'), (3601553, 'appliances.kitchen.washer'), (2501740, 'appliances.kitchen.oven'), (3200371, 'appliances.kitchen.meat_grinder'), (2701880, 'appliances.kitchen.refrigerators'), (3700766, 'appliances.environment.vacuum'), (4600245, 'appliances.kitchen.dishwasher'), (3700709, 'appliances.environment.vacuum'), (3700689, 'appliances.environment.vacuum'), (3601405, 'appliances.kitchen.washer'), (5000012, 'appliances.sewing_machine'), (2900503, 'appliances.kitchen.microwave'), (2900954, 'appliances.kitchen.microwave'), (2900536, 'appliances.kitchen.microwave'), (3200523, 'appliances.kitchen.meat_grinder'), (3100267, 'appliances.kitchen.blender'), (3200243, 'appliances.kitchen.meat_grinder'), (3700898, 'appliances.environment.vacuum'), (4900421, 'appliances.kitchen.juicer'), (3801134, 'appliances.iron'), (3800751, 'appliances.iron'), (3601482, 'appliances.kitchen.washer'), (3801070, 'appliances.iron'), (3601438, 'appliances.kitchen.washer'), (3700781, 'appliances.environment.vacuum'), (3600934, 'appliances.kitchen.washer'), (3600661, 'appliances.kitchen.washer'), (3801191, 'appliances.iron'), (3701219, 'appliances.environment.vacuum'), (3700777, 'appliances.environment.vacuum'), (3601244, 'appliances.kitchen.washer'), (3900003, 'appliances.environment.water_heater'), (2900958, 'appliances.kitchen.microwave'), (2500566, 'appliances.kitchen.oven'), (2900936, 'appliances.kitchen.microwave'), (2701685, 'appliances.kitchen.refrigerators'), (3200201, 'appliances.kitchen.meat_grinder'), (3700926, 'appliances.environment.vacuum'), (3700851, 'appliances.environment.vacuum'), (3100491, 'appliances.kitchen.blender'), (3800966, 'appliances.iron'), (3600165, 'appliances.kitchen.washer'), (3701016, 'appliances.environment.vacuum'), (3600163, 'appliances.kitchen.washer'), (3801287, 'appliances.iron'), (2501796, 'appliances.kitchen.oven'), (3700703, 'appliances.environment.vacuum'), (5000691, 'appliances.sewing_machine'), (6302016, 'appliances.kitchen.kettle'), (2700613, 'appliances.kitchen.refrigerators'), (2900636, 'appliances.kitchen.microwave'), (3900755, 'appliances.environment.water_heater'), (2900561, 'appliances.kitchen.microwave'), (6301402, 'appliances.kitchen.kettle'), (6300680, 'appliances.kitchen.kettle'), (3200372, 'appliances.kitchen.meat_grinder'), (3701348, 'appliances.environment.vacuum'), (3601195, 'appliances.kitchen.washer'), (3601250, 'appliances.kitchen.washer'), (3601406, 'appliances.kitchen.washer'), (3801135, 'appliances.iron')], 2900958: [(3701088, 'appliances.environment.vacuum'), (3700771, 'appliances.environment.vacuum'), (6301417, 'appliances.kitchen.kettle'), (6300739, 'appliances.kitchen.kettle'), (11200239, 'appliances.personal.scales'), (2900655, 'appliances.kitchen.microwave'), (6301258, 'appliances.kitchen.kettle'), (2900536, 'appliances.kitchen.microwave'), (3200173, 'appliances.kitchen.meat_grinder'), (3801416, 'appliances.iron'), (3900703, 'appliances.environment.water_heater'), (3700777, 'appliances.environment.vacuum'), (3601537, 'appliances.kitchen.washer'), (2900934, 'appliances.kitchen.microwave'), (3701056, 'appliances.environment.vacuum'), (3600452, 'appliances.kitchen.washer'), (2500566, 'appliances.kitchen.oven'), (3601605, 'appliances.kitchen.washer'), (3801272, 'appliances.iron'), (2900806, 'appliances.kitchen.microwave'), (3700567, 'appliances.environment.vacuum'), (3600163, 'appliances.kitchen.washer'), (2900022, 'appliances.kitchen.microwave'), (6300680, 'appliances.kitchen.kettle'), (10900328, 'appliances.kitchen.mixer'), (6200724, 'appliances.environment.air_heater'), (3700769, 'appliances.environment.vacuum'), (3700756, 'appliances.environment.vacuum'), (3100583, 'appliances.kitchen.blender'), (3700912, 'appliances.environment.vacuum'), (2900090, 'appliances.kitchen.microwave'), (2900924, 'appliances.kitchen.microwave'), (8700217, 'appliances.personal.hair_cutter'), (19300100, 'appliances.ironing_board'), (5000475, 'appliances.sewing_machine'), (11100216, 'appliances.personal.scales'), (4400189, 'appliances.kitchen.coffee_machine'), (3600840, 'appliances.kitchen.washer'), (3100800, 'appliances.kitchen.blender'), (3100087, 'appliances.kitchen.blender'), (3600287, 'appliances.kitchen.washer'), (11100178, 'appliances.personal.scales'), (2900811, 'appliances.kitchen.microwave'), (3601425, 'appliances.kitchen.washer'), (3801134, 'appliances.iron'), (3800751, 'appliances.iron'), (3600661, 'appliances.kitchen.washer'), (3701263, 'appliances.environment.vacuum'), (3700127, 'appliances.environment.vacuum'), (6300465, 'appliances.kitchen.kettle'), (4400379, 'appliances.kitchen.coffee_machine'), (2400467, 'appliances.kitchen.hood'), (2701705, 'appliances.kitchen.refrigerators'), (2900192, 'appliances.kitchen.microwave'), (3800966, 'appliances.iron'), (2900975, 'appliances.kitchen.microwave'), (3801298, 'appliances.iron'), (4900204, 'appliances.kitchen.juicer'), (2800638, 'appliances.kitchen.refrigerators'), (3200429, 'appliances.kitchen.meat_grinder'), (3600666, 'appliances.kitchen.washer'), (3200378, 'appliances.kitchen.meat_grinder'), (2501375, 'appliances.kitchen.oven'), (3701244, 'appliances.environment.vacuum'), (3701323, 'appliances.environment.vacuum'), (100005527, 'appliances.kitchen.microwave'), (3700766, 'appliances.environment.vacuum'), (2900954, 'appliances.kitchen.microwave'), (2900569, 'appliances.kitchen.microwave'), (6301423, 'appliances.kitchen.kettle'), (3200523, 'appliances.kitchen.meat_grinder'), (3900976, 'appliances.environment.water_heater'), (6201174, 'appliances.environment.air_heater'), (3701391, 'appliances.environment.vacuum'), (2400648, 'appliances.kitchen.hood'), (3601449, 'appliances.kitchen.washer'), (3601438, 'appliances.kitchen.washer'), (10900029, 'appliances.kitchen.mixer'), (3700796, 'appliances.environment.vacuum'), (3900685, 'appliances.environment.water_heater'), (2501796, 'appliances.kitchen.oven'), (3700338, 'appliances.environment.vacuum'), (6300658, 'appliances.kitchen.kettle'), (6301402, 'appliances.kitchen.kettle'), (2900418, 'appliances.kitchen.microwave'), (3100871, 'appliances.kitchen.blender'), (3701134, 'appliances.environment.vacuum'), (6300198, 'appliances.kitchen.kettle'), (3600182, 'appliances.kitchen.washer'), (2900840, 'appliances.kitchen.microwave'), (8700375, 'appliances.personal.hair_cutter'), (3601124, 'appliances.kitchen.washer'), (3701387, 'appliances.environment.vacuum'), (3601522, 'appliances.kitchen.washer'), (3701268, 'appliances.environment.vacuum'), (2900512, 'appliances.kitchen.microwave'), (3701096, 'appliances.environment.vacuum'), (6301456, 'appliances.kitchen.kettle'), (3601405, 'appliances.kitchen.washer'), (2900516, 'appliances.kitchen.microwave'), (3601524, 'appliances.kitchen.washer'), (3601603, 'appliances.kitchen.washer'), (2702610, 'appliances.kitchen.refrigerators'), (3700781, 'appliances.environment.vacuum'), (3900003, 'appliances.environment.water_heater'), (3800548, 'appliances.iron'), (3200549, 'appliances.kitchen.meat_grinder'), (3700926, 'appliances.environment.vacuum'), (2501816, 'appliances.kitchen.oven'), (2900852, 'appliances.kitchen.microwave'), (19300010, 'appliances.ironing_board')], 2700344: [(2700701, 'appliances.kitchen.refrigerators'), (2701657, 'appliances.kitchen.refrigerators')], 3100640: [(3601494, 'appliances.kitchen.washer'), (3100970, 'appliances.kitchen.blender'), (5000475, 'appliances.sewing_machine'), (19300100, 'appliances.ironing_board'), (3701134, 'appliances.environment.vacuum'), (2900662, 'appliances.kitchen.microwave'), (8700289, 'appliances.personal.hair_cutter'), (3800985, 'appliances.iron'), (3701103, 'appliances.environment.vacuum'), (3100917, 'appliances.kitchen.blender'), (3601423, 'appliances.kitchen.washer'), (4900289, 'appliances.kitchen.juicer'), (3700766, 'appliances.environment.vacuum'), (19300029, 'appliances.ironing_board'), (11200505, 'appliances.personal.scales'), (6800223, 'appliances.kitchen.kettle'), (2800613, 'appliances.kitchen.refrigerators'), (3100034, 'appliances.kitchen.blender'), (3700779, 'appliances.environment.vacuum'), (36000069, 'appliances.kitchen.kettle'), (3200523, 'appliances.kitchen.meat_grinder'), (3700907, 'appliances.environment.vacuum'), (2701646, 'appliances.kitchen.refrigerators'), (3800249, 'appliances.iron'), (10900258, 'appliances.kitchen.mixer'), (2500289, 'appliances.kitchen.oven'), (2701639, 'appliances.kitchen.refrigerators'), (4900088, 'appliances.kitchen.juicer'), (3200549, 'appliances.kitchen.meat_grinder'), (3100819, 'appliances.kitchen.blender'), (3200388, 'appliances.kitchen.meat_grinder'), (3200201, 'appliances.kitchen.meat_grinder'), (14500017, 'appliances.kitchen.coffee_grinder'), (3200137, 'appliances.kitchen.meat_grinder'), (3601605, 'appliances.kitchen.washer'), (3100491, 'appliances.kitchen.blender'), (3701104, 'appliances.environment.vacuum'), (3900685, 'appliances.environment.water_heater'), (2900192, 'appliances.kitchen.microwave'), (2702277, 'appliances.kitchen.refrigerators'), (19300039, 'appliances.ironing_board'), (2900555, 'appliances.kitchen.microwave'), (3800966, 'appliances.iron'), (11100146, 'appliances.personal.scales'), (3200163, 'appliances.kitchen.meat_grinder'), (3200275, 'appliances.kitchen.meat_grinder'), (19300021, 'appliances.ironing_board'), (3100583, 'appliances.kitchen.blender')]}\n"
          ]
        }
      ],
      "source": [
        "co_purchases_dict = {}\n",
        "\n",
        "# Generate co-purchase lists for each product in a session\n",
        "for session_products in sessions:\n",
        "    for product in session_products:\n",
        "        product_id = product['product_id']\n",
        "        category_code = product['category_code']\n",
        "        if product_id not in co_purchases_dict:\n",
        "            co_purchases_dict[product_id] = set()\n",
        "        for co_product in session_products:\n",
        "            if co_product['product_id'] != product_id:\n",
        "                co_purchases_dict[product_id].add((co_product['product_id'], co_product['category_code']))\n",
        "\n",
        "# Convert sets to lists for easier manipulation\n",
        "for product_id in co_purchases_dict:\n",
        "    co_purchases_dict[product_id] = list(co_purchases_dict[product_id])\n",
        "\n",
        "# Display some co-purchase lists for debugging\n",
        "print({k: co_purchases_dict[k] for k in list(co_purchases_dict)[:5]})\n"
      ]
    },
    {
      "cell_type": "code",
      "execution_count": null,
      "metadata": {
        "colab": {
          "base_uri": "https://localhost:8080/"
        },
        "id": "d3pRHa4APpWY",
        "outputId": "207e0758-444c-454f-a925-2415ab76ae80"
      },
      "outputs": [
        {
          "name": "stderr",
          "output_type": "stream",
          "text": [
            "<ipython-input-11-4f70f5610043>:6: SettingWithCopyWarning: \n",
            "A value is trying to be set on a copy of a slice from a DataFrame.\n",
            "Try using .loc[row_indexer,col_indexer] = value instead\n",
            "\n",
            "See the caveats in the documentation: https://pandas.pydata.org/pandas-docs/stable/user_guide/indexing.html#returning-a-view-versus-a-copy\n",
            "  filtered_purchases_df['co_purchases'] = filtered_purchases_df['product_id'].apply(get_co_purchases)\n"
          ]
        }
      ],
      "source": [
        "# Function to get co-purchases for a product ID\n",
        "def get_co_purchases(product_id):\n",
        "    return co_purchases_dict.get(product_id, [])\n",
        "\n",
        "# Add the 'co_purchases' column to the DataFrame\n",
        "filtered_purchases_df['co_purchases'] = filtered_purchases_df['product_id'].apply(get_co_purchases)\n",
        "\n",
        "# Unnest the co_purchases column\n",
        "unnested_data = []\n",
        "\n",
        "for row in filtered_purchases_df.itertuples():\n",
        "    for co_purchase in row.co_purchases:\n",
        "        unnested_data.append((row.product_id, row.category_code, co_purchase[0], co_purchase[1]))\n",
        "\n",
        "unnested_df = pd.DataFrame(unnested_data, columns=['product_id', 'category_code', 'co_purchase_id', 'co_purchase_category'])"
      ]
    },
    {
      "cell_type": "code",
      "execution_count": null,
      "metadata": {
        "colab": {
          "base_uri": "https://localhost:8080/",
          "height": 206
        },
        "id": "0emnk6WfP4ts",
        "outputId": "7e8fdba7-f89e-4197-eee5-cda93936e368"
      },
      "outputs": [
        {
          "data": {
            "application/vnd.google.colaboratory.intrinsic+json": {
              "type": "dataframe",
              "variable_name": "unnested_df"
            },
            "text/html": [
              "\n",
              "  <div id=\"df-d84fb58d-de0e-49c3-8256-fc759e88fd1d\" class=\"colab-df-container\">\n",
              "    <div>\n",
              "<style scoped>\n",
              "    .dataframe tbody tr th:only-of-type {\n",
              "        vertical-align: middle;\n",
              "    }\n",
              "\n",
              "    .dataframe tbody tr th {\n",
              "        vertical-align: top;\n",
              "    }\n",
              "\n",
              "    .dataframe thead th {\n",
              "        text-align: right;\n",
              "    }\n",
              "</style>\n",
              "<table border=\"1\" class=\"dataframe\">\n",
              "  <thead>\n",
              "    <tr style=\"text-align: right;\">\n",
              "      <th></th>\n",
              "      <th>product_id</th>\n",
              "      <th>category_code</th>\n",
              "      <th>co_purchase_id</th>\n",
              "      <th>co_purchase_category</th>\n",
              "    </tr>\n",
              "  </thead>\n",
              "  <tbody>\n",
              "    <tr>\n",
              "      <th>0</th>\n",
              "      <td>6200687</td>\n",
              "      <td>appliances.environment.air_heater</td>\n",
              "      <td>6200704</td>\n",
              "      <td>appliances.environment.air_heater</td>\n",
              "    </tr>\n",
              "    <tr>\n",
              "      <th>1</th>\n",
              "      <td>6200687</td>\n",
              "      <td>appliances.environment.air_heater</td>\n",
              "      <td>6200259</td>\n",
              "      <td>appliances.environment.air_heater</td>\n",
              "    </tr>\n",
              "    <tr>\n",
              "      <th>2</th>\n",
              "      <td>6200687</td>\n",
              "      <td>appliances.environment.air_heater</td>\n",
              "      <td>6200724</td>\n",
              "      <td>appliances.environment.air_heater</td>\n",
              "    </tr>\n",
              "    <tr>\n",
              "      <th>3</th>\n",
              "      <td>6200687</td>\n",
              "      <td>appliances.environment.air_heater</td>\n",
              "      <td>6200806</td>\n",
              "      <td>appliances.environment.air_heater</td>\n",
              "    </tr>\n",
              "    <tr>\n",
              "      <th>4</th>\n",
              "      <td>6200687</td>\n",
              "      <td>appliances.environment.air_heater</td>\n",
              "      <td>3800985</td>\n",
              "      <td>appliances.iron</td>\n",
              "    </tr>\n",
              "  </tbody>\n",
              "</table>\n",
              "</div>\n",
              "    <div class=\"colab-df-buttons\">\n",
              "\n",
              "  <div class=\"colab-df-container\">\n",
              "    <button class=\"colab-df-convert\" onclick=\"convertToInteractive('df-d84fb58d-de0e-49c3-8256-fc759e88fd1d')\"\n",
              "            title=\"Convert this dataframe to an interactive table.\"\n",
              "            style=\"display:none;\">\n",
              "\n",
              "  <svg xmlns=\"http://www.w3.org/2000/svg\" height=\"24px\" viewBox=\"0 -960 960 960\">\n",
              "    <path d=\"M120-120v-720h720v720H120Zm60-500h600v-160H180v160Zm220 220h160v-160H400v160Zm0 220h160v-160H400v160ZM180-400h160v-160H180v160Zm440 0h160v-160H620v160ZM180-180h160v-160H180v160Zm440 0h160v-160H620v160Z\"/>\n",
              "  </svg>\n",
              "    </button>\n",
              "\n",
              "  <style>\n",
              "    .colab-df-container {\n",
              "      display:flex;\n",
              "      gap: 12px;\n",
              "    }\n",
              "\n",
              "    .colab-df-convert {\n",
              "      background-color: #E8F0FE;\n",
              "      border: none;\n",
              "      border-radius: 50%;\n",
              "      cursor: pointer;\n",
              "      display: none;\n",
              "      fill: #1967D2;\n",
              "      height: 32px;\n",
              "      padding: 0 0 0 0;\n",
              "      width: 32px;\n",
              "    }\n",
              "\n",
              "    .colab-df-convert:hover {\n",
              "      background-color: #E2EBFA;\n",
              "      box-shadow: 0px 1px 2px rgba(60, 64, 67, 0.3), 0px 1px 3px 1px rgba(60, 64, 67, 0.15);\n",
              "      fill: #174EA6;\n",
              "    }\n",
              "\n",
              "    .colab-df-buttons div {\n",
              "      margin-bottom: 4px;\n",
              "    }\n",
              "\n",
              "    [theme=dark] .colab-df-convert {\n",
              "      background-color: #3B4455;\n",
              "      fill: #D2E3FC;\n",
              "    }\n",
              "\n",
              "    [theme=dark] .colab-df-convert:hover {\n",
              "      background-color: #434B5C;\n",
              "      box-shadow: 0px 1px 3px 1px rgba(0, 0, 0, 0.15);\n",
              "      filter: drop-shadow(0px 1px 2px rgba(0, 0, 0, 0.3));\n",
              "      fill: #FFFFFF;\n",
              "    }\n",
              "  </style>\n",
              "\n",
              "    <script>\n",
              "      const buttonEl =\n",
              "        document.querySelector('#df-d84fb58d-de0e-49c3-8256-fc759e88fd1d button.colab-df-convert');\n",
              "      buttonEl.style.display =\n",
              "        google.colab.kernel.accessAllowed ? 'block' : 'none';\n",
              "\n",
              "      async function convertToInteractive(key) {\n",
              "        const element = document.querySelector('#df-d84fb58d-de0e-49c3-8256-fc759e88fd1d');\n",
              "        const dataTable =\n",
              "          await google.colab.kernel.invokeFunction('convertToInteractive',\n",
              "                                                    [key], {});\n",
              "        if (!dataTable) return;\n",
              "\n",
              "        const docLinkHtml = 'Like what you see? Visit the ' +\n",
              "          '<a target=\"_blank\" href=https://colab.research.google.com/notebooks/data_table.ipynb>data table notebook</a>'\n",
              "          + ' to learn more about interactive tables.';\n",
              "        element.innerHTML = '';\n",
              "        dataTable['output_type'] = 'display_data';\n",
              "        await google.colab.output.renderOutput(dataTable, element);\n",
              "        const docLink = document.createElement('div');\n",
              "        docLink.innerHTML = docLinkHtml;\n",
              "        element.appendChild(docLink);\n",
              "      }\n",
              "    </script>\n",
              "  </div>\n",
              "\n",
              "\n",
              "<div id=\"df-9b8aebcc-e440-4b49-bb16-2ee54f2333f0\">\n",
              "  <button class=\"colab-df-quickchart\" onclick=\"quickchart('df-9b8aebcc-e440-4b49-bb16-2ee54f2333f0')\"\n",
              "            title=\"Suggest charts\"\n",
              "            style=\"display:none;\">\n",
              "\n",
              "<svg xmlns=\"http://www.w3.org/2000/svg\" height=\"24px\"viewBox=\"0 0 24 24\"\n",
              "     width=\"24px\">\n",
              "    <g>\n",
              "        <path d=\"M19 3H5c-1.1 0-2 .9-2 2v14c0 1.1.9 2 2 2h14c1.1 0 2-.9 2-2V5c0-1.1-.9-2-2-2zM9 17H7v-7h2v7zm4 0h-2V7h2v10zm4 0h-2v-4h2v4z\"/>\n",
              "    </g>\n",
              "</svg>\n",
              "  </button>\n",
              "\n",
              "<style>\n",
              "  .colab-df-quickchart {\n",
              "      --bg-color: #E8F0FE;\n",
              "      --fill-color: #1967D2;\n",
              "      --hover-bg-color: #E2EBFA;\n",
              "      --hover-fill-color: #174EA6;\n",
              "      --disabled-fill-color: #AAA;\n",
              "      --disabled-bg-color: #DDD;\n",
              "  }\n",
              "\n",
              "  [theme=dark] .colab-df-quickchart {\n",
              "      --bg-color: #3B4455;\n",
              "      --fill-color: #D2E3FC;\n",
              "      --hover-bg-color: #434B5C;\n",
              "      --hover-fill-color: #FFFFFF;\n",
              "      --disabled-bg-color: #3B4455;\n",
              "      --disabled-fill-color: #666;\n",
              "  }\n",
              "\n",
              "  .colab-df-quickchart {\n",
              "    background-color: var(--bg-color);\n",
              "    border: none;\n",
              "    border-radius: 50%;\n",
              "    cursor: pointer;\n",
              "    display: none;\n",
              "    fill: var(--fill-color);\n",
              "    height: 32px;\n",
              "    padding: 0;\n",
              "    width: 32px;\n",
              "  }\n",
              "\n",
              "  .colab-df-quickchart:hover {\n",
              "    background-color: var(--hover-bg-color);\n",
              "    box-shadow: 0 1px 2px rgba(60, 64, 67, 0.3), 0 1px 3px 1px rgba(60, 64, 67, 0.15);\n",
              "    fill: var(--button-hover-fill-color);\n",
              "  }\n",
              "\n",
              "  .colab-df-quickchart-complete:disabled,\n",
              "  .colab-df-quickchart-complete:disabled:hover {\n",
              "    background-color: var(--disabled-bg-color);\n",
              "    fill: var(--disabled-fill-color);\n",
              "    box-shadow: none;\n",
              "  }\n",
              "\n",
              "  .colab-df-spinner {\n",
              "    border: 2px solid var(--fill-color);\n",
              "    border-color: transparent;\n",
              "    border-bottom-color: var(--fill-color);\n",
              "    animation:\n",
              "      spin 1s steps(1) infinite;\n",
              "  }\n",
              "\n",
              "  @keyframes spin {\n",
              "    0% {\n",
              "      border-color: transparent;\n",
              "      border-bottom-color: var(--fill-color);\n",
              "      border-left-color: var(--fill-color);\n",
              "    }\n",
              "    20% {\n",
              "      border-color: transparent;\n",
              "      border-left-color: var(--fill-color);\n",
              "      border-top-color: var(--fill-color);\n",
              "    }\n",
              "    30% {\n",
              "      border-color: transparent;\n",
              "      border-left-color: var(--fill-color);\n",
              "      border-top-color: var(--fill-color);\n",
              "      border-right-color: var(--fill-color);\n",
              "    }\n",
              "    40% {\n",
              "      border-color: transparent;\n",
              "      border-right-color: var(--fill-color);\n",
              "      border-top-color: var(--fill-color);\n",
              "    }\n",
              "    60% {\n",
              "      border-color: transparent;\n",
              "      border-right-color: var(--fill-color);\n",
              "    }\n",
              "    80% {\n",
              "      border-color: transparent;\n",
              "      border-right-color: var(--fill-color);\n",
              "      border-bottom-color: var(--fill-color);\n",
              "    }\n",
              "    90% {\n",
              "      border-color: transparent;\n",
              "      border-bottom-color: var(--fill-color);\n",
              "    }\n",
              "  }\n",
              "</style>\n",
              "\n",
              "  <script>\n",
              "    async function quickchart(key) {\n",
              "      const quickchartButtonEl =\n",
              "        document.querySelector('#' + key + ' button');\n",
              "      quickchartButtonEl.disabled = true;  // To prevent multiple clicks.\n",
              "      quickchartButtonEl.classList.add('colab-df-spinner');\n",
              "      try {\n",
              "        const charts = await google.colab.kernel.invokeFunction(\n",
              "            'suggestCharts', [key], {});\n",
              "      } catch (error) {\n",
              "        console.error('Error during call to suggestCharts:', error);\n",
              "      }\n",
              "      quickchartButtonEl.classList.remove('colab-df-spinner');\n",
              "      quickchartButtonEl.classList.add('colab-df-quickchart-complete');\n",
              "    }\n",
              "    (() => {\n",
              "      let quickchartButtonEl =\n",
              "        document.querySelector('#df-9b8aebcc-e440-4b49-bb16-2ee54f2333f0 button');\n",
              "      quickchartButtonEl.style.display =\n",
              "        google.colab.kernel.accessAllowed ? 'block' : 'none';\n",
              "    })();\n",
              "  </script>\n",
              "</div>\n",
              "    </div>\n",
              "  </div>\n"
            ],
            "text/plain": [
              "   product_id                      category_code  co_purchase_id               co_purchase_category\n",
              "0     6200687  appliances.environment.air_heater         6200704  appliances.environment.air_heater\n",
              "1     6200687  appliances.environment.air_heater         6200259  appliances.environment.air_heater\n",
              "2     6200687  appliances.environment.air_heater         6200724  appliances.environment.air_heater\n",
              "3     6200687  appliances.environment.air_heater         6200806  appliances.environment.air_heater\n",
              "4     6200687  appliances.environment.air_heater         3800985                    appliances.iron"
            ]
          },
          "execution_count": 12,
          "metadata": {},
          "output_type": "execute_result"
        }
      ],
      "source": [
        "unnested_df.head(5)"
      ]
    },
    {
      "cell_type": "code",
      "execution_count": null,
      "metadata": {
        "colab": {
          "base_uri": "https://localhost:8080/",
          "height": 35
        },
        "id": "OwvdqTm5P0xO",
        "outputId": "495bd2d2-1d76-4c37-cc71-0ac78245d2c3"
      },
      "outputs": [
        {
          "name": "stdout",
          "output_type": "stream",
          "text": [
            "Filtered DataFrame saved to /content/drive/My Drive/transformed_file_path.csv\n"
          ]
        },
        {
          "data": {
            "application/javascript": [
              "\n",
              "    async function download(id, filename, size) {\n",
              "      if (!google.colab.kernel.accessAllowed) {\n",
              "        return;\n",
              "      }\n",
              "      const div = document.createElement('div');\n",
              "      const label = document.createElement('label');\n",
              "      label.textContent = `Downloading \"${filename}\": `;\n",
              "      div.appendChild(label);\n",
              "      const progress = document.createElement('progress');\n",
              "      progress.max = size;\n",
              "      div.appendChild(progress);\n",
              "      document.body.appendChild(div);\n",
              "\n",
              "      const buffers = [];\n",
              "      let downloaded = 0;\n",
              "\n",
              "      const channel = await google.colab.kernel.comms.open(id);\n",
              "      // Send a message to notify the kernel that we're ready.\n",
              "      channel.send({})\n",
              "\n",
              "      for await (const message of channel.messages) {\n",
              "        // Send a message to notify the kernel that we're ready.\n",
              "        channel.send({})\n",
              "        if (message.buffers) {\n",
              "          for (const buffer of message.buffers) {\n",
              "            buffers.push(buffer);\n",
              "            downloaded += buffer.byteLength;\n",
              "            progress.value = downloaded;\n",
              "          }\n",
              "        }\n",
              "      }\n",
              "      const blob = new Blob(buffers, {type: 'application/binary'});\n",
              "      const a = document.createElement('a');\n",
              "      a.href = window.URL.createObjectURL(blob);\n",
              "      a.download = filename;\n",
              "      div.appendChild(a);\n",
              "      a.click();\n",
              "      div.remove();\n",
              "    }\n",
              "  "
            ],
            "text/plain": [
              "<IPython.core.display.Javascript object>"
            ]
          },
          "metadata": {},
          "output_type": "display_data"
        },
        {
          "data": {
            "application/javascript": [
              "download(\"download_346322bc-13db-42ad-afce-a3af0fb14876\", \"transformed_file_path.csv\", 480449563)"
            ],
            "text/plain": [
              "<IPython.core.display.Javascript object>"
            ]
          },
          "metadata": {},
          "output_type": "display_data"
        }
      ],
      "source": [
        "# Save the transformed DataFrame to a new CSV file\n",
        "transformed_file_path = '/content/drive/My Drive/transformed_file_path.csv'\n",
        "unnested_df.to_csv(transformed_file_path, index=False)\n",
        "print(f\"Filtered DataFrame saved to {transformed_file_path}\")\n",
        "\n",
        "# Download the file if needed\n",
        "from google.colab import files\n",
        "files.download(transformed_file_path)\n"
      ]
    },
    {
      "cell_type": "code",
      "execution_count": null,
      "metadata": {
        "colab": {
          "base_uri": "https://localhost:8080/"
        },
        "id": "Ctr2pZSCgM0Q",
        "outputId": "6277b481-143e-4b41-da08-84f353177c2c"
      },
      "outputs": [
        {
          "name": "stdout",
          "output_type": "stream",
          "text": [
            "{1: [(3, 'cat3'), (2, 'cat2')], 2: [(1, 'cat1')], 3: [(1, 'cat1')]}\n"
          ]
        }
      ],
      "source": [
        "import pandas as pd\n",
        "\n",
        "# Create a dictionary to hold co-purchase lists\n",
        "co_purchases_dict = {}\n",
        "\n",
        "# Generate co-purchase lists for each product in a session\n",
        "for session_products in sessions:\n",
        "    for product in session_products:\n",
        "        product_id = product['product_id']\n",
        "        category_code = product['category_code']\n",
        "        if product_id not in co_purchases_dict:\n",
        "            co_purchases_dict[product_id] = set()\n",
        "        for co_product in session_products:\n",
        "            if co_product['product_id'] != product_id:\n",
        "                co_purchases_dict[product_id].add((co_product['product_id'], co_product['category_code']))\n",
        "\n",
        "# Convert sets to lists for easier manipulation\n",
        "for product_id in co_purchases_dict:\n",
        "    co_purchases_dict[product_id] = list(co_purchases_dict[product_id])\n",
        "\n",
        "# Display some co-purchase lists\n",
        "print({k: co_purchases_dict[k] for k in list(co_purchases_dict)[:5]})\n"
      ]
    },
    {
      "cell_type": "code",
      "execution_count": null,
      "metadata": {
        "colab": {
          "base_uri": "https://localhost:8080/"
        },
        "id": "EzB3X8YdgT3I",
        "outputId": "82dc86c9-0a0d-4b1d-83ef-ef2f0c1476a4"
      },
      "outputs": [
        {
          "name": "stdout",
          "output_type": "stream",
          "text": [
            "Updated purchases_df with co-purchases (sample):\n",
            "                       event_time event_type  product_id          category_id                      category_code    brand   price    user_id                          user_session  hour  day_of_week                                       co_purchases\n",
            "162181  2019-11-26 08:48:14+00:00   purchase     3701088  2053013565983425517      appliances.environment.vacuum    bosch  105.51  569307505  5c9ad972-767a-4bcd-851a-4de0369577bf     8            1  [(3700245, appliances.environment.vacuum), (24...\n",
            "124459  2019-11-17 09:34:43+00:00   purchase     3700039  2053013565983425517      appliances.environment.vacuum       lg  187.11  512496247  f4f7a5db-2787-4de1-a675-c728d6c23118     9            6  [(3701088, appliances.environment.vacuum), (27...\n",
            "112190  2019-11-16 13:49:13+00:00   purchase     3601278  2053013563810775923          appliances.kitchen.washer    bosch  386.08  520530966  3904a38f-9c87-44bd-abf8-9e0373486f8c    13            5  [(3701088, appliances.environment.vacuum), (25...\n",
            "105931  2019-11-16 09:16:11+00:00   purchase     2900569  2053013554776244595       appliances.kitchen.microwave       lg   99.33  572132065  82b28150-d5ec-4de8-b3fd-862ba1593182     9            5  [(3701088, appliances.environment.vacuum), (29...\n",
            "76470   2019-11-01 14:11:20+00:00   purchase     2701727  2053013563911439225   appliances.kitchen.refrigerators     beko  293.41  513587759  fbf4ed5b-d121-412b-9fe6-e957ab8f173e    14            4  [(2701876, appliances.kitchen.refrigerators), ...\n",
            "77590   2019-11-02 07:23:27+00:00   purchase     3700766  2053013565983425517      appliances.environment.vacuum  samsung  136.17  557414988  d4b13880-47e8-485c-b10a-5595d00fe1bc     7            5  [(2701876, appliances.kitchen.refrigerators), ...\n",
            "161645  2019-11-26 05:31:11+00:00   purchase     6200690  2053013552293216471  appliances.environment.air_heater    oasis   35.78  566678627  37732983-3b74-46b2-8bef-b8ad8593fd84     5            1  [(3700621, appliances.environment.vacuum), (36...\n",
            "51539   2019-10-21 13:27:14+00:00   purchase     6800220  2053013554834964853          appliances.kitchen.kettle    bosch  109.50  534271122  a5df98c5-aec0-425c-bc85-39ecef45c88c    13            0  [(2900513, appliances.kitchen.microwave), (270...\n",
            "137224  2019-11-17 15:05:41+00:00   purchase     2900561  2053013554776244595       appliances.kitchen.microwave    midea   48.65  530122199  d6bbd1db-27d2-44a7-b348-20956c5658d9    15            6  [(2702347, appliances.kitchen.refrigerators), ...\n",
            "46258   2019-10-19 13:32:21+00:00   purchase     2701657  2053013563911439225   appliances.kitchen.refrigerators     beko  240.57  561920359  399d0a7f-f187-4489-9526-f55fa67c43ab    13            5  [(3701088, appliances.environment.vacuum), (27...\n"
          ]
        },
        {
          "name": "stderr",
          "output_type": "stream",
          "text": [
            "<ipython-input-18-38fd61cf60e4>:6: SettingWithCopyWarning: \n",
            "A value is trying to be set on a copy of a slice from a DataFrame.\n",
            "Try using .loc[row_indexer,col_indexer] = value instead\n",
            "\n",
            "See the caveats in the documentation: https://pandas.pydata.org/pandas-docs/stable/user_guide/indexing.html#returning-a-view-versus-a-copy\n",
            "  filtered_purchases_df['co_purchases'] = filtered_purchases_df['product_id'].apply(get_co_purchases)\n"
          ]
        }
      ],
      "source": [
        "# Function to get co-purchases for a product ID\n",
        "def get_co_purchases(product_id):\n",
        "    return co_purchases_dict.get(product_id, [])\n",
        "\n",
        "# Add the 'co_purchases' column to the DataFrame\n",
        "filtered_purchases_df['co_purchases'] = filtered_purchases_df['product_id'].apply(get_co_purchases)\n",
        "\n",
        "# Display the updated DataFrame (sample)\n",
        "print(\"Updated purchases_df with co-purchases (sample):\")\n",
        "print(filtered_purchases_df.sample(10))\n",
        "\n"
      ]
    },
    {
      "cell_type": "code",
      "execution_count": null,
      "metadata": {
        "colab": {
          "base_uri": "https://localhost:8080/",
          "height": 365
        },
        "id": "y2cYkPIggm9f",
        "outputId": "21fdbb7d-891a-4e61-a365-6f8593011418"
      },
      "outputs": [
        {
          "ename": "KeyboardInterrupt",
          "evalue": "",
          "output_type": "error",
          "traceback": [
            "\u001b[0;31m---------------------------------------------------------------------------\u001b[0m",
            "\u001b[0;31mKeyboardInterrupt\u001b[0m                         Traceback (most recent call last)",
            "\u001b[0;32m<ipython-input-19-47fb56e597f1>\u001b[0m in \u001b[0;36m<cell line: 3>\u001b[0;34m()\u001b[0m\n\u001b[1;32m      1\u001b[0m \u001b[0;31m# Save the updated DataFrame to a CSV file\u001b[0m\u001b[0;34m\u001b[0m\u001b[0;34m\u001b[0m\u001b[0m\n\u001b[1;32m      2\u001b[0m \u001b[0mupdated_file_path\u001b[0m \u001b[0;34m=\u001b[0m \u001b[0;34m'/content/drive/My Drive/updated_purchases_df_with_real_co_purchases.csv'\u001b[0m\u001b[0;34m\u001b[0m\u001b[0;34m\u001b[0m\u001b[0m\n\u001b[0;32m----> 3\u001b[0;31m \u001b[0mfiltered_purchases_df\u001b[0m\u001b[0;34m.\u001b[0m\u001b[0mto_csv\u001b[0m\u001b[0;34m(\u001b[0m\u001b[0mupdated_file_path\u001b[0m\u001b[0;34m,\u001b[0m \u001b[0mindex\u001b[0m\u001b[0;34m=\u001b[0m\u001b[0;32mFalse\u001b[0m\u001b[0;34m)\u001b[0m\u001b[0;34m\u001b[0m\u001b[0;34m\u001b[0m\u001b[0m\n\u001b[0m\u001b[1;32m      4\u001b[0m \u001b[0mprint\u001b[0m\u001b[0;34m(\u001b[0m\u001b[0;34mf\"Updated DataFrame saved to {updated_file_path}\"\u001b[0m\u001b[0;34m)\u001b[0m\u001b[0;34m\u001b[0m\u001b[0;34m\u001b[0m\u001b[0m\n\u001b[1;32m      5\u001b[0m \u001b[0;34m\u001b[0m\u001b[0m\n",
            "\u001b[0;32m/usr/local/lib/python3.10/dist-packages/pandas/core/generic.py\u001b[0m in \u001b[0;36mto_csv\u001b[0;34m(self, path_or_buf, sep, na_rep, float_format, columns, header, index, index_label, mode, encoding, compression, quoting, quotechar, lineterminator, chunksize, date_format, doublequote, escapechar, decimal, errors, storage_options)\u001b[0m\n\u001b[1;32m   3770\u001b[0m         )\n\u001b[1;32m   3771\u001b[0m \u001b[0;34m\u001b[0m\u001b[0m\n\u001b[0;32m-> 3772\u001b[0;31m         return DataFrameRenderer(formatter).to_csv(\n\u001b[0m\u001b[1;32m   3773\u001b[0m             \u001b[0mpath_or_buf\u001b[0m\u001b[0;34m,\u001b[0m\u001b[0;34m\u001b[0m\u001b[0;34m\u001b[0m\u001b[0m\n\u001b[1;32m   3774\u001b[0m             \u001b[0mlineterminator\u001b[0m\u001b[0;34m=\u001b[0m\u001b[0mlineterminator\u001b[0m\u001b[0;34m,\u001b[0m\u001b[0;34m\u001b[0m\u001b[0;34m\u001b[0m\u001b[0m\n",
            "\u001b[0;32m/usr/local/lib/python3.10/dist-packages/pandas/io/formats/format.py\u001b[0m in \u001b[0;36mto_csv\u001b[0;34m(self, path_or_buf, encoding, sep, columns, index_label, mode, compression, quoting, quotechar, lineterminator, chunksize, date_format, doublequote, escapechar, errors, storage_options)\u001b[0m\n\u001b[1;32m   1184\u001b[0m             \u001b[0mformatter\u001b[0m\u001b[0;34m=\u001b[0m\u001b[0mself\u001b[0m\u001b[0;34m.\u001b[0m\u001b[0mfmt\u001b[0m\u001b[0;34m,\u001b[0m\u001b[0;34m\u001b[0m\u001b[0;34m\u001b[0m\u001b[0m\n\u001b[1;32m   1185\u001b[0m         )\n\u001b[0;32m-> 1186\u001b[0;31m         \u001b[0mcsv_formatter\u001b[0m\u001b[0;34m.\u001b[0m\u001b[0msave\u001b[0m\u001b[0;34m(\u001b[0m\u001b[0;34m)\u001b[0m\u001b[0;34m\u001b[0m\u001b[0;34m\u001b[0m\u001b[0m\n\u001b[0m\u001b[1;32m   1187\u001b[0m \u001b[0;34m\u001b[0m\u001b[0m\n\u001b[1;32m   1188\u001b[0m         \u001b[0;32mif\u001b[0m \u001b[0mcreated_buffer\u001b[0m\u001b[0;34m:\u001b[0m\u001b[0;34m\u001b[0m\u001b[0;34m\u001b[0m\u001b[0m\n",
            "\u001b[0;32m/usr/local/lib/python3.10/dist-packages/pandas/io/formats/csvs.py\u001b[0m in \u001b[0;36msave\u001b[0;34m(self)\u001b[0m\n\u001b[1;32m    238\u001b[0m         \"\"\"\n\u001b[1;32m    239\u001b[0m         \u001b[0;31m# apply compression and byte/text conversion\u001b[0m\u001b[0;34m\u001b[0m\u001b[0;34m\u001b[0m\u001b[0m\n\u001b[0;32m--> 240\u001b[0;31m         with get_handle(\n\u001b[0m\u001b[1;32m    241\u001b[0m             \u001b[0mself\u001b[0m\u001b[0;34m.\u001b[0m\u001b[0mfilepath_or_buffer\u001b[0m\u001b[0;34m,\u001b[0m\u001b[0;34m\u001b[0m\u001b[0;34m\u001b[0m\u001b[0m\n\u001b[1;32m    242\u001b[0m             \u001b[0mself\u001b[0m\u001b[0;34m.\u001b[0m\u001b[0mmode\u001b[0m\u001b[0;34m,\u001b[0m\u001b[0;34m\u001b[0m\u001b[0;34m\u001b[0m\u001b[0m\n",
            "\u001b[0;32m/usr/local/lib/python3.10/dist-packages/pandas/io/common.py\u001b[0m in \u001b[0;36mget_handle\u001b[0;34m(path_or_buf, mode, encoding, compression, memory_map, is_text, errors, storage_options)\u001b[0m\n\u001b[1;32m    857\u001b[0m         \u001b[0;32mif\u001b[0m \u001b[0mioargs\u001b[0m\u001b[0;34m.\u001b[0m\u001b[0mencoding\u001b[0m \u001b[0;32mand\u001b[0m \u001b[0;34m\"b\"\u001b[0m \u001b[0;32mnot\u001b[0m \u001b[0;32min\u001b[0m \u001b[0mioargs\u001b[0m\u001b[0;34m.\u001b[0m\u001b[0mmode\u001b[0m\u001b[0;34m:\u001b[0m\u001b[0;34m\u001b[0m\u001b[0;34m\u001b[0m\u001b[0m\n\u001b[1;32m    858\u001b[0m             \u001b[0;31m# Encoding\u001b[0m\u001b[0;34m\u001b[0m\u001b[0;34m\u001b[0m\u001b[0m\n\u001b[0;32m--> 859\u001b[0;31m             handle = open(\n\u001b[0m\u001b[1;32m    860\u001b[0m                 \u001b[0mhandle\u001b[0m\u001b[0;34m,\u001b[0m\u001b[0;34m\u001b[0m\u001b[0;34m\u001b[0m\u001b[0m\n\u001b[1;32m    861\u001b[0m                 \u001b[0mioargs\u001b[0m\u001b[0;34m.\u001b[0m\u001b[0mmode\u001b[0m\u001b[0;34m,\u001b[0m\u001b[0;34m\u001b[0m\u001b[0;34m\u001b[0m\u001b[0m\n",
            "\u001b[0;32m/usr/lib/python3.10/codecs.py\u001b[0m in \u001b[0;36m__init__\u001b[0;34m(self, errors)\u001b[0m\n\u001b[1;32m    184\u001b[0m     \u001b[0mremembers\u001b[0m \u001b[0mthe\u001b[0m \u001b[0mstate\u001b[0m \u001b[0mof\u001b[0m \u001b[0mthe\u001b[0m \u001b[0mencoding\u001b[0m \u001b[0mprocess\u001b[0m \u001b[0mbetween\u001b[0m \u001b[0mcalls\u001b[0m \u001b[0mto\u001b[0m \u001b[0mencode\u001b[0m\u001b[0;34m(\u001b[0m\u001b[0;34m)\u001b[0m\u001b[0;34m.\u001b[0m\u001b[0;34m\u001b[0m\u001b[0;34m\u001b[0m\u001b[0m\n\u001b[1;32m    185\u001b[0m     \"\"\"\n\u001b[0;32m--> 186\u001b[0;31m     \u001b[0;32mdef\u001b[0m \u001b[0m__init__\u001b[0m\u001b[0;34m(\u001b[0m\u001b[0mself\u001b[0m\u001b[0;34m,\u001b[0m \u001b[0merrors\u001b[0m\u001b[0;34m=\u001b[0m\u001b[0;34m'strict'\u001b[0m\u001b[0;34m)\u001b[0m\u001b[0;34m:\u001b[0m\u001b[0;34m\u001b[0m\u001b[0;34m\u001b[0m\u001b[0m\n\u001b[0m\u001b[1;32m    187\u001b[0m         \"\"\"\n\u001b[1;32m    188\u001b[0m         \u001b[0mCreates\u001b[0m \u001b[0man\u001b[0m \u001b[0mIncrementalEncoder\u001b[0m \u001b[0minstance\u001b[0m\u001b[0;34m.\u001b[0m\u001b[0;34m\u001b[0m\u001b[0;34m\u001b[0m\u001b[0m\n",
            "\u001b[0;31mKeyboardInterrupt\u001b[0m: "
          ]
        }
      ],
      "source": [
        "# Save the updated DataFrame to a CSV file\n",
        "updated_file_path = '/content/drive/My Drive/updated_purchases_df_with_real_co_purchases.csv'\n",
        "filtered_purchases_df.to_csv(updated_file_path, index=False)\n",
        "print(f\"Updated DataFrame saved to {updated_file_path}\")\n",
        "\n",
        "# Download the file if needed\n",
        "from google.colab import files\n",
        "files.download(updated_file_path)"
      ]
    },
    {
      "cell_type": "code",
      "execution_count": null,
      "metadata": {
        "colab": {
          "base_uri": "https://localhost:8080/"
        },
        "id": "56vonzsPtXFg",
        "outputId": "a2a236c2-dd23-4c54-c8a5-94d28211238a"
      },
      "outputs": [
        {
          "name": "stdout",
          "output_type": "stream",
          "text": [
            "                   event_time event_type  product_id          category_id             category_code      brand   price    user_id                          user_session  hour  day_of_week                                       co_purchases\n",
            "0   2019-10-01 00:10:56+00:00   purchase     6200687  2053013552293216471    environment.air_heater      oasis   28.03  548691404  b67cdbcb-b073-4271-b365-803c6fce53b0     0            1  [(6200704, appliances.environment.air_heater),...\n",
            "1   2019-10-01 02:29:01+00:00   purchase     3200361  2053013555321504139      kitchen.meat_grinder    philips  120.95  553819262  94b897fc-80c6-492c-a456-707398c7cc8e     2            1  [(10900004, appliances.kitchen.mixer), (370132...\n",
            "2   2019-10-01 02:30:46+00:00   purchase     3100152  2053013555262783879           kitchen.blender  panasonic   51.46  527681026  feb31d4f-ceb5-4710-8a8e-391abeaca106     2            1  [(5000475, appliances.sewing_machine), (111000...\n",
            "3   2019-10-01 02:34:23+00:00   purchase     3601485  2053013563810775923            kitchen.washer         lg  308.65  513419646  5e227e58-6117-419c-b45d-ac54be44716d     2            1  [(2701876, appliances.kitchen.refrigerators), ...\n",
            "4   2019-10-01 02:34:45+00:00   purchase     3700127  2053013565983425517        environment.vacuum         lg  189.26  512584306  510447fa-8dee-4027-a80a-a17dab9260af     2            1  [(2702347, appliances.kitchen.refrigerators), ...\n",
            "5   2019-10-01 02:35:05+00:00   purchase     3601244  2053013563810775923            kitchen.washer         lg  339.75  551646742  ba2abe11-273b-451c-b89d-c456cffa6501     2            1  [(3601505, appliances.kitchen.washer), (360149...\n",
            "6   2019-10-01 02:36:06+00:00   purchase     2800403  2053013563835941749     kitchen.refrigerators        NaN  204.33  516426855  788ec8fe-f198-4484-b911-ba5841c55c68     2            1  [(2800439, appliances.kitchen.refrigerators), ...\n",
            "7   2019-10-01 02:38:28+00:00   purchase     3900045  2053013552326770905  environment.water_heater    thermex   84.94  513172531  6b4b047d-5800-49ec-ba3d-ae545eff60e8     2            1  [(3601485, appliances.kitchen.washer), (112002...\n",
            "8   2019-10-01 02:39:58+00:00   purchase     2700920  2053013563911439225     kitchen.refrigerators      midea  810.81  512416959  4adbf59b-f0b6-4951-8829-12ad5a3f683a     2            1  [(3601505, appliances.kitchen.washer), (270249...\n",
            "10  2019-10-01 02:43:40+00:00   purchase     3601405  2053013563810775923            kitchen.washer       beko  187.88  555463495  ea7c3a44-0908-4ef6-b175-bf4075e2665a     2            1  [(3600990, appliances.kitchen.washer), (270187...\n",
            "11  2019-10-01 02:43:54+00:00   purchase     2401882  2053013563743667055              kitchen.hood      artel   61.24  518431897  d244ccce-4dbb-4ae6-af48-98eb36069e19     2            1  [(2500223, appliances.kitchen.oven), (3601522,...\n",
            "12  2019-10-01 02:44:17+00:00   purchase     3700926  2053013565983425517        environment.vacuum    samsung   64.08  514969291  87b43a6c-6bd1-4dae-9c48-95933425c484     2            1  [(3701088, appliances.environment.vacuum), (50...\n",
            "13  2019-10-01 02:45:39+00:00   purchase    41900000  2090971686529663114        environment.vacuum        NaN   23.60  525661637  87f507c9-8679-4b25-87f0-dc90e36b7b6d     2            1  [(19300102, appliances.ironing_board), (370132...\n",
            "14  2019-10-01 02:45:56+00:00   purchase     3100640  2053013555262783879           kitchen.blender    redmond   56.23  539676251  c867f269-a367-4610-b3d8-5f31df63225e     2            1  [(3601494, appliances.kitchen.washer), (310097...\n",
            "15  2019-10-01 02:46:18+00:00   purchase     2701737  2053013563835941749     kitchen.refrigerators        NaN  228.47  524890634  09da2c0e-55cf-4017-99eb-2fb64f550404     2            1  [(3601489, appliances.kitchen.washer), (370076...\n",
            "16  2019-10-01 02:46:42+00:00   purchase     2800591  2053013563835941749     kitchen.refrigerators   leadbros  190.48  532762473  6f7b28d9-676c-4840-945a-184bbf955181     2            1  [(3701164, appliances.environment.vacuum), (36...\n",
            "17  2019-10-01 02:46:49+00:00   purchase     3700870  2053013565983425517        environment.vacuum      bosch  378.36  555465942  0b58cee9-ab6f-452a-8b17-e2239707e299     2            1  [(3700616, appliances.environment.vacuum), (19...\n",
            "18  2019-10-01 02:48:18+00:00   purchase     3600182  2053013563810775923            kitchen.washer      midea  121.50  549685916  14796138-70c6-4d88-99b7-7865404190e9     2            1  [(2501670, appliances.kitchen.oven), (3700912,...\n",
            "19  2019-10-01 02:49:44+00:00   purchase     2800403  2053013563835941749     kitchen.refrigerators        NaN  204.33  555465061  87515b74-457c-4272-8fcf-5739f0196b4e     2            1  [(2800439, appliances.kitchen.refrigerators), ...\n",
            "22  2019-10-01 02:51:05+00:00   purchase    11000000  2053013554960793975            kitchen.toster      vitek   33.44  541516521  6b9efb82-151e-4274-bb9d-72d327425dd1     2            1  [(3100152, appliances.kitchen.blender), (31000...\n"
          ]
        },
        {
          "name": "stderr",
          "output_type": "stream",
          "text": [
            "<ipython-input-20-ae20c6b55b39>:2: SettingWithCopyWarning: \n",
            "A value is trying to be set on a copy of a slice from a DataFrame.\n",
            "Try using .loc[row_indexer,col_indexer] = value instead\n",
            "\n",
            "See the caveats in the documentation: https://pandas.pydata.org/pandas-docs/stable/user_guide/indexing.html#returning-a-view-versus-a-copy\n",
            "  filtered_purchases_df['category_code'] = filtered_purchases_df['category_code'].str.replace('appliances.', '')\n"
          ]
        }
      ],
      "source": [
        "# Remove 'appliances.' prefix from the 'category_code' column\n",
        "filtered_purchases_df['category_code'] = filtered_purchases_df['category_code'].str.replace('appliances.', '')\n",
        "\n",
        "# Display the first few rows to verify the changes\n",
        "print(filtered_purchases_df.head(20))"
      ]
    },
    {
      "cell_type": "code",
      "execution_count": null,
      "metadata": {
        "colab": {
          "base_uri": "https://localhost:8080/"
        },
        "id": "jYCEWsMfHzV0",
        "outputId": "4dd761a5-8785-405d-8a68-7e56300de312"
      },
      "outputs": [
        {
          "name": "stderr",
          "output_type": "stream",
          "text": [
            "<ipython-input-17-f43702c142b9>:9: SettingWithCopyWarning: \n",
            "A value is trying to be set on a copy of a slice from a DataFrame.\n",
            "Try using .loc[row_indexer,col_indexer] = value instead\n",
            "\n",
            "See the caveats in the documentation: https://pandas.pydata.org/pandas-docs/stable/user_guide/indexing.html#returning-a-view-versus-a-copy\n",
            "  filtered_purchases_df['co_purchases'] = filtered_purchases_df['co_purchases'].apply(safe_eval)\n"
          ]
        }
      ],
      "source": [
        "# Function to safely evaluate the co_purchases column\n",
        "def safe_eval(val):\n",
        "    try:\n",
        "        return ast.literal_eval(val)\n",
        "    except:\n",
        "        return []\n",
        "\n",
        "# Apply the safe_eval function to the co_purchases column\n",
        "filtered_purchases_df['co_purchases'] = filtered_purchases_df['co_purchases'].apply(safe_eval)\n",
        "\n",
        "# Unnest the co_purchases column\n",
        "unnested_data = []\n",
        "\n",
        "for row in filtered_purchases_df.itertuples():\n",
        "    for co_purchase in row.co_purchases:\n",
        "        unnested_data.append((row.product_id, row.category_code, co_purchase[0], co_purchase[1]))\n",
        "\n",
        "unnested_df = pd.DataFrame(unnested_data, columns=['product_id', 'category_code', 'co_purchase_id', 'co_purchase_category'])\n"
      ]
    },
    {
      "cell_type": "code",
      "execution_count": null,
      "metadata": {
        "colab": {
          "base_uri": "https://localhost:8080/",
          "height": 53
        },
        "id": "BIZWOHm8Lof7",
        "outputId": "a7e92286-6559-4d0b-e92b-01342bb170d0"
      },
      "outputs": [
        {
          "data": {
            "application/vnd.google.colaboratory.intrinsic+json": {
              "repr_error": "Out of range float values are not JSON compliant: nan",
              "type": "dataframe",
              "variable_name": "unnested_df"
            },
            "text/html": [
              "\n",
              "  <div id=\"df-e2ba0345-85aa-4850-87e0-c5f61bc2066c\" class=\"colab-df-container\">\n",
              "    <div>\n",
              "<style scoped>\n",
              "    .dataframe tbody tr th:only-of-type {\n",
              "        vertical-align: middle;\n",
              "    }\n",
              "\n",
              "    .dataframe tbody tr th {\n",
              "        vertical-align: top;\n",
              "    }\n",
              "\n",
              "    .dataframe thead th {\n",
              "        text-align: right;\n",
              "    }\n",
              "</style>\n",
              "<table border=\"1\" class=\"dataframe\">\n",
              "  <thead>\n",
              "    <tr style=\"text-align: right;\">\n",
              "      <th></th>\n",
              "      <th>product_id</th>\n",
              "      <th>category_code</th>\n",
              "      <th>co_purchase_id</th>\n",
              "      <th>co_purchase_category</th>\n",
              "    </tr>\n",
              "  </thead>\n",
              "  <tbody>\n",
              "  </tbody>\n",
              "</table>\n",
              "</div>\n",
              "    <div class=\"colab-df-buttons\">\n",
              "\n",
              "  <div class=\"colab-df-container\">\n",
              "    <button class=\"colab-df-convert\" onclick=\"convertToInteractive('df-e2ba0345-85aa-4850-87e0-c5f61bc2066c')\"\n",
              "            title=\"Convert this dataframe to an interactive table.\"\n",
              "            style=\"display:none;\">\n",
              "\n",
              "  <svg xmlns=\"http://www.w3.org/2000/svg\" height=\"24px\" viewBox=\"0 -960 960 960\">\n",
              "    <path d=\"M120-120v-720h720v720H120Zm60-500h600v-160H180v160Zm220 220h160v-160H400v160Zm0 220h160v-160H400v160ZM180-400h160v-160H180v160Zm440 0h160v-160H620v160ZM180-180h160v-160H180v160Zm440 0h160v-160H620v160Z\"/>\n",
              "  </svg>\n",
              "    </button>\n",
              "\n",
              "  <style>\n",
              "    .colab-df-container {\n",
              "      display:flex;\n",
              "      gap: 12px;\n",
              "    }\n",
              "\n",
              "    .colab-df-convert {\n",
              "      background-color: #E8F0FE;\n",
              "      border: none;\n",
              "      border-radius: 50%;\n",
              "      cursor: pointer;\n",
              "      display: none;\n",
              "      fill: #1967D2;\n",
              "      height: 32px;\n",
              "      padding: 0 0 0 0;\n",
              "      width: 32px;\n",
              "    }\n",
              "\n",
              "    .colab-df-convert:hover {\n",
              "      background-color: #E2EBFA;\n",
              "      box-shadow: 0px 1px 2px rgba(60, 64, 67, 0.3), 0px 1px 3px 1px rgba(60, 64, 67, 0.15);\n",
              "      fill: #174EA6;\n",
              "    }\n",
              "\n",
              "    .colab-df-buttons div {\n",
              "      margin-bottom: 4px;\n",
              "    }\n",
              "\n",
              "    [theme=dark] .colab-df-convert {\n",
              "      background-color: #3B4455;\n",
              "      fill: #D2E3FC;\n",
              "    }\n",
              "\n",
              "    [theme=dark] .colab-df-convert:hover {\n",
              "      background-color: #434B5C;\n",
              "      box-shadow: 0px 1px 3px 1px rgba(0, 0, 0, 0.15);\n",
              "      filter: drop-shadow(0px 1px 2px rgba(0, 0, 0, 0.3));\n",
              "      fill: #FFFFFF;\n",
              "    }\n",
              "  </style>\n",
              "\n",
              "    <script>\n",
              "      const buttonEl =\n",
              "        document.querySelector('#df-e2ba0345-85aa-4850-87e0-c5f61bc2066c button.colab-df-convert');\n",
              "      buttonEl.style.display =\n",
              "        google.colab.kernel.accessAllowed ? 'block' : 'none';\n",
              "\n",
              "      async function convertToInteractive(key) {\n",
              "        const element = document.querySelector('#df-e2ba0345-85aa-4850-87e0-c5f61bc2066c');\n",
              "        const dataTable =\n",
              "          await google.colab.kernel.invokeFunction('convertToInteractive',\n",
              "                                                    [key], {});\n",
              "        if (!dataTable) return;\n",
              "\n",
              "        const docLinkHtml = 'Like what you see? Visit the ' +\n",
              "          '<a target=\"_blank\" href=https://colab.research.google.com/notebooks/data_table.ipynb>data table notebook</a>'\n",
              "          + ' to learn more about interactive tables.';\n",
              "        element.innerHTML = '';\n",
              "        dataTable['output_type'] = 'display_data';\n",
              "        await google.colab.output.renderOutput(dataTable, element);\n",
              "        const docLink = document.createElement('div');\n",
              "        docLink.innerHTML = docLinkHtml;\n",
              "        element.appendChild(docLink);\n",
              "      }\n",
              "    </script>\n",
              "  </div>\n",
              "\n",
              "    </div>\n",
              "  </div>\n"
            ],
            "text/plain": [
              "Empty DataFrame\n",
              "Columns: [product_id, category_code, co_purchase_id, co_purchase_category]\n",
              "Index: []"
            ]
          },
          "execution_count": 19,
          "metadata": {},
          "output_type": "execute_result"
        }
      ],
      "source": [
        "unnested_df.head()"
      ]
    },
    {
      "cell_type": "code",
      "execution_count": null,
      "metadata": {
        "id": "7PBi5Hdwekb9"
      },
      "outputs": [],
      "source": [
        "import pandas as pd\n",
        "from sklearn.model_selection import train_test_split\n",
        "from sklearn.preprocessing import LabelEncoder\n",
        "from sklearn.multioutput import MultiOutputRegressor\n",
        "from sklearn.ensemble import RandomForestRegressor\n",
        "from sklearn.metrics import mean_absolute_error\n",
        "import json"
      ]
    },
    {
      "cell_type": "code",
      "execution_count": null,
      "metadata": {
        "colab": {
          "base_uri": "https://localhost:8080/"
        },
        "id": "uo6PjYAhftrI",
        "outputId": "0a9306e2-56a8-4ce7-c579-d0a7bc66ec08"
      },
      "outputs": [
        {
          "name": "stderr",
          "output_type": "stream",
          "text": [
            "<ipython-input-22-a776190f418a>:2: SettingWithCopyWarning: \n",
            "A value is trying to be set on a copy of a slice from a DataFrame.\n",
            "Try using .loc[row_indexer,col_indexer] = value instead\n",
            "\n",
            "See the caveats in the documentation: https://pandas.pydata.org/pandas-docs/stable/user_guide/indexing.html#returning-a-view-versus-a-copy\n",
            "  filtered_purchases_df['event_time'] = pd.to_datetime(filtered_purchases_df['event_time'])\n",
            "<ipython-input-22-a776190f418a>:3: SettingWithCopyWarning: \n",
            "A value is trying to be set on a copy of a slice from a DataFrame.\n",
            "Try using .loc[row_indexer,col_indexer] = value instead\n",
            "\n",
            "See the caveats in the documentation: https://pandas.pydata.org/pandas-docs/stable/user_guide/indexing.html#returning-a-view-versus-a-copy\n",
            "  filtered_purchases_df['hour'] = filtered_purchases_df['event_time'].dt.hour\n",
            "<ipython-input-22-a776190f418a>:4: SettingWithCopyWarning: \n",
            "A value is trying to be set on a copy of a slice from a DataFrame.\n",
            "Try using .loc[row_indexer,col_indexer] = value instead\n",
            "\n",
            "See the caveats in the documentation: https://pandas.pydata.org/pandas-docs/stable/user_guide/indexing.html#returning-a-view-versus-a-copy\n",
            "  filtered_purchases_df['day_of_week'] = filtered_purchases_df['event_time'].dt.dayofweek\n"
          ]
        }
      ],
      "source": [
        "# Preprocess the data\n",
        "filtered_purchases_df['event_time'] = pd.to_datetime(filtered_purchases_df['event_time'])\n",
        "filtered_purchases_df['hour'] = filtered_purchases_df['event_time'].dt.hour\n",
        "filtered_purchases_df['day_of_week'] = filtered_purchases_df['event_time'].dt.dayofweek\n"
      ]
    },
    {
      "cell_type": "code",
      "execution_count": null,
      "metadata": {
        "id": "reVG8vI1hZ0C"
      },
      "outputs": [],
      "source": [
        "# Encode categorical variables\n",
        "label_encoders = {}\n",
        "categorical_columns = ['event_type', 'category_code', 'brand']\n"
      ]
    },
    {
      "cell_type": "code",
      "execution_count": null,
      "metadata": {
        "colab": {
          "base_uri": "https://localhost:8080/"
        },
        "id": "9O4heGsPhrrb",
        "outputId": "e8d64a79-b7a2-4c20-93b3-cb5056fb9ef8"
      },
      "outputs": [
        {
          "name": "stderr",
          "output_type": "stream",
          "text": [
            "<ipython-input-24-1f9594257f62>:3: SettingWithCopyWarning: \n",
            "A value is trying to be set on a copy of a slice from a DataFrame.\n",
            "Try using .loc[row_indexer,col_indexer] = value instead\n",
            "\n",
            "See the caveats in the documentation: https://pandas.pydata.org/pandas-docs/stable/user_guide/indexing.html#returning-a-view-versus-a-copy\n",
            "  filtered_purchases_df[col] = label_encoders[col].fit_transform(filtered_purchases_df[col].astype(str))\n",
            "<ipython-input-24-1f9594257f62>:3: SettingWithCopyWarning: \n",
            "A value is trying to be set on a copy of a slice from a DataFrame.\n",
            "Try using .loc[row_indexer,col_indexer] = value instead\n",
            "\n",
            "See the caveats in the documentation: https://pandas.pydata.org/pandas-docs/stable/user_guide/indexing.html#returning-a-view-versus-a-copy\n",
            "  filtered_purchases_df[col] = label_encoders[col].fit_transform(filtered_purchases_df[col].astype(str))\n",
            "<ipython-input-24-1f9594257f62>:3: SettingWithCopyWarning: \n",
            "A value is trying to be set on a copy of a slice from a DataFrame.\n",
            "Try using .loc[row_indexer,col_indexer] = value instead\n",
            "\n",
            "See the caveats in the documentation: https://pandas.pydata.org/pandas-docs/stable/user_guide/indexing.html#returning-a-view-versus-a-copy\n",
            "  filtered_purchases_df[col] = label_encoders[col].fit_transform(filtered_purchases_df[col].astype(str))\n"
          ]
        }
      ],
      "source": [
        "for col in categorical_columns:\n",
        "    label_encoders[col] = LabelEncoder()\n",
        "    filtered_purchases_df[col] = label_encoders[col].fit_transform(filtered_purchases_df[col].astype(str))"
      ]
    },
    {
      "cell_type": "code",
      "execution_count": null,
      "metadata": {
        "id": "tujCg77SpBM4"
      },
      "outputs": [],
      "source": [
        "from sklearn.model_selection import train_test_split\n",
        "from sklearn.preprocessing import LabelEncoder, MultiLabelBinarizer\n",
        "from sklearn.multioutput import MultiOutputRegressor\n",
        "from sklearn.ensemble import RandomForestRegressor\n",
        "from sklearn.metrics import mean_absolute_error\n",
        "import ast\n",
        "import json"
      ]
    },
    {
      "cell_type": "code",
      "execution_count": null,
      "metadata": {
        "colab": {
          "base_uri": "https://localhost:8080/",
          "height": 1000
        },
        "id": "Gggh3wcwpMcg",
        "outputId": "c4350af5-5afb-4b79-8e88-c8c6d898f036"
      },
      "outputs": [
        {
          "name": "stderr",
          "output_type": "stream",
          "text": [
            "<ipython-input-26-d1aa29b9dc34>:2: SettingWithCopyWarning: \n",
            "A value is trying to be set on a copy of a slice from a DataFrame.\n",
            "Try using .loc[row_indexer,col_indexer] = value instead\n",
            "\n",
            "See the caveats in the documentation: https://pandas.pydata.org/pandas-docs/stable/user_guide/indexing.html#returning-a-view-versus-a-copy\n",
            "  filtered_purchases_df['event_time'] = pd.to_datetime(filtered_purchases_df['event_time'])\n",
            "<ipython-input-26-d1aa29b9dc34>:3: SettingWithCopyWarning: \n",
            "A value is trying to be set on a copy of a slice from a DataFrame.\n",
            "Try using .loc[row_indexer,col_indexer] = value instead\n",
            "\n",
            "See the caveats in the documentation: https://pandas.pydata.org/pandas-docs/stable/user_guide/indexing.html#returning-a-view-versus-a-copy\n",
            "  filtered_purchases_df['hour'] = filtered_purchases_df['event_time'].dt.hour\n",
            "<ipython-input-26-d1aa29b9dc34>:4: SettingWithCopyWarning: \n",
            "A value is trying to be set on a copy of a slice from a DataFrame.\n",
            "Try using .loc[row_indexer,col_indexer] = value instead\n",
            "\n",
            "See the caveats in the documentation: https://pandas.pydata.org/pandas-docs/stable/user_guide/indexing.html#returning-a-view-versus-a-copy\n",
            "  filtered_purchases_df['day_of_week'] = filtered_purchases_df['event_time'].dt.dayofweek\n",
            "<ipython-input-26-d1aa29b9dc34>:12: SettingWithCopyWarning: \n",
            "A value is trying to be set on a copy of a slice from a DataFrame.\n",
            "Try using .loc[row_indexer,col_indexer] = value instead\n",
            "\n",
            "See the caveats in the documentation: https://pandas.pydata.org/pandas-docs/stable/user_guide/indexing.html#returning-a-view-versus-a-copy\n",
            "  filtered_purchases_df[col] = label_encoders[col].fit_transform(filtered_purchases_df[col].astype(str))\n",
            "<ipython-input-26-d1aa29b9dc34>:12: SettingWithCopyWarning: \n",
            "A value is trying to be set on a copy of a slice from a DataFrame.\n",
            "Try using .loc[row_indexer,col_indexer] = value instead\n",
            "\n",
            "See the caveats in the documentation: https://pandas.pydata.org/pandas-docs/stable/user_guide/indexing.html#returning-a-view-versus-a-copy\n",
            "  filtered_purchases_df[col] = label_encoders[col].fit_transform(filtered_purchases_df[col].astype(str))\n",
            "<ipython-input-26-d1aa29b9dc34>:12: SettingWithCopyWarning: \n",
            "A value is trying to be set on a copy of a slice from a DataFrame.\n",
            "Try using .loc[row_indexer,col_indexer] = value instead\n",
            "\n",
            "See the caveats in the documentation: https://pandas.pydata.org/pandas-docs/stable/user_guide/indexing.html#returning-a-view-versus-a-copy\n",
            "  filtered_purchases_df[col] = label_encoders[col].fit_transform(filtered_purchases_df[col].astype(str))\n"
          ]
        },
        {
          "name": "stdout",
          "output_type": "stream",
          "text": [
            "Mean Absolute Error for Hour: 3.803893168937848\n",
            "Mean Absolute Error for Day of the Week: 1.525055538091309\n"
          ]
        },
        {
          "data": {
            "image/png": "[encoded data removed]",
            "text/plain": [
              "<Figure size 1000x600 with 1 Axes>"
            ]
          },
          "metadata": {},
          "output_type": "display_data"
        }
      ],
      "source": [
        "\n",
        "\n",
        "# Preprocess the data\n",
        "filtered_purchases_df['event_time'] = pd.to_datetime(filtered_purchases_df['event_time'])\n",
        "filtered_purchases_df['hour'] = filtered_purchases_df['event_time'].dt.hour\n",
        "filtered_purchases_df['day_of_week'] = filtered_purchases_df['event_time'].dt.dayofweek\n",
        "\n",
        "# Encode categorical variables\n",
        "label_encoders = {}\n",
        "categorical_columns = ['event_type', 'category_code', 'brand']\n",
        "\n",
        "for col in categorical_columns:\n",
        "    label_encoders[col] = LabelEncoder()\n",
        "    filtered_purchases_df[col] = label_encoders[col].fit_transform(filtered_purchases_df[col].astype(str))\n",
        "\n",
        "# Prepare features and target variables\n",
        "X = filtered_purchases_df[['product_id', 'category_id', 'category_code', 'brand', 'price']]\n",
        "y = filtered_purchases_df[['hour', 'day_of_week']]\n",
        "\n",
        "# Ensure X and y have the same number of samples\n",
        "assert X.shape[0] == y.shape[0], \"Mismatched number of samples between features and target variables.\"\n",
        "\n",
        "# Train-test split\n",
        "X_train, X_test, y_train, y_test = train_test_split(X, y, test_size=0.2, random_state=42)\n",
        "\n",
        "# Model training\n",
        "model = MultiOutputRegressor(RandomForestRegressor(random_state=42))\n",
        "model.fit(X_train, y_train)\n",
        "\n",
        "# Predictions\n",
        "y_pred = model.predict(X_test)\n",
        "\n",
        "# Evaluation\n",
        "hour_mae = mean_absolute_error(y_test.iloc[:, 0], y_pred[:, 0])\n",
        "day_mae = mean_absolute_error(y_test.iloc[:, 1], y_pred[:, 1])\n",
        "\n",
        "print(f'Mean Absolute Error for Hour: {hour_mae}')\n",
        "print(f'Mean Absolute Error for Day of the Week: {day_mae}')\n",
        "\n",
        "# Display feature importances\n",
        "import matplotlib.pyplot as plt\n",
        "import numpy as np\n",
        "\n",
        "feature_importances = np.mean([\n",
        "    tree.feature_importances_ for tree in model.estimators_[0].estimators_\n",
        "], axis=0)\n",
        "\n",
        "plt.figure(figsize=(10, 6))\n",
        "plt.bar(X.columns, feature_importances)\n",
        "plt.xlabel('Feature')\n",
        "plt.ylabel('Importance')\n",
        "plt.title('Feature Importances')\n",
        "plt.show()\n"
      ]
    },
    {
      "cell_type": "code",
      "execution_count": null,
      "metadata": {
        "colab": {
          "background_save": true,
          "base_uri": "https://localhost:8080/"
        },
        "id": "m4X5AulNryyk",
        "outputId": "c99cd0db-b346-4dab-c2a2-d629b6cc7642"
      },
      "outputs": [
        {
          "name": "stdout",
          "output_type": "stream",
          "text": [
            "Fitting 3 folds for each of 108 candidates, totalling 324 fits\n",
            "Optimized Mean Absolute Error for Hour: 3.7782951742389823\n",
            "Optimized Mean Absolute Error for Day of the Week: 1.5346108455649277\n"
          ]
        }
      ],
      "source": [
        "from sklearn.model_selection import GridSearchCV\n",
        "from sklearn.multioutput import MultiOutputRegressor\n",
        "from sklearn.ensemble import RandomForestRegressor\n",
        "\n",
        "# Define the parameter grid\n",
        "param_grid = {\n",
        "    'estimator__n_estimators': [50, 100, 200],\n",
        "    'estimator__max_depth': [None, 10, 20, 30],\n",
        "    'estimator__min_samples_split': [2, 5, 10],\n",
        "    'estimator__min_samples_leaf': [1, 2, 4]\n",
        "}\n",
        "\n",
        "# Initialize the model\n",
        "base_model = RandomForestRegressor(random_state=42)\n",
        "model = MultiOutputRegressor(base_model)\n",
        "\n",
        "# Perform grid search\n",
        "grid_search = GridSearchCV(model, param_grid, cv=3, scoring='neg_mean_absolute_error', n_jobs=-1, verbose=2)\n",
        "grid_search.fit(X_train, y_train)\n",
        "\n",
        "# Best model\n",
        "best_model = grid_search.best_estimator_\n",
        "\n",
        "# Predictions\n",
        "y_pred = best_model.predict(X_test)\n",
        "\n",
        "# Evaluation\n",
        "hour_mae = mean_absolute_error(y_test.iloc[:, 0], y_pred[:, 0])\n",
        "day_mae = mean_absolute_error(y_test.iloc[:, 1], y_pred[:, 1])\n",
        "\n",
        "print(f'Optimized Mean Absolute Error for Hour: {hour_mae}')\n",
        "print(f'Optimized Mean Absolute Error for Day of the Week: {day_mae}')\n"
      ]
    },
    {
      "cell_type": "code",
      "execution_count": null,
      "metadata": {
        "colab": {
          "base_uri": "https://localhost:8080/"
        },
        "id": "3VJcqTtuqjQD",
        "outputId": "eda5cc3a-81cc-4cbe-f70a-a3f764e502b0"
      },
      "outputs": [
        {
          "name": "stderr",
          "output_type": "stream",
          "text": [
            "<ipython-input-19-0b4f8022ac1a>:11: SettingWithCopyWarning: \n",
            "A value is trying to be set on a copy of a slice from a DataFrame.\n",
            "Try using .loc[row_indexer,col_indexer] = value instead\n",
            "\n",
            "See the caveats in the documentation: https://pandas.pydata.org/pandas-docs/stable/user_guide/indexing.html#returning-a-view-versus-a-copy\n",
            "  filtered_purchases_df['event_time'] = pd.to_datetime(filtered_purchases_df['event_time'])\n",
            "<ipython-input-19-0b4f8022ac1a>:12: SettingWithCopyWarning: \n",
            "A value is trying to be set on a copy of a slice from a DataFrame.\n",
            "Try using .loc[row_indexer,col_indexer] = value instead\n",
            "\n",
            "See the caveats in the documentation: https://pandas.pydata.org/pandas-docs/stable/user_guide/indexing.html#returning-a-view-versus-a-copy\n",
            "  filtered_purchases_df['hour'] = filtered_purchases_df['event_time'].dt.hour\n",
            "<ipython-input-19-0b4f8022ac1a>:13: SettingWithCopyWarning: \n",
            "A value is trying to be set on a copy of a slice from a DataFrame.\n",
            "Try using .loc[row_indexer,col_indexer] = value instead\n",
            "\n",
            "See the caveats in the documentation: https://pandas.pydata.org/pandas-docs/stable/user_guide/indexing.html#returning-a-view-versus-a-copy\n",
            "  filtered_purchases_df['day_of_week'] = filtered_purchases_df['event_time'].dt.dayofweek\n",
            "<ipython-input-19-0b4f8022ac1a>:14: SettingWithCopyWarning: \n",
            "A value is trying to be set on a copy of a slice from a DataFrame.\n",
            "Try using .loc[row_indexer,col_indexer] = value instead\n",
            "\n",
            "See the caveats in the documentation: https://pandas.pydata.org/pandas-docs/stable/user_guide/indexing.html#returning-a-view-versus-a-copy\n",
            "  filtered_purchases_df['day_of_month'] = filtered_purchases_df['event_time'].dt.day\n",
            "<ipython-input-19-0b4f8022ac1a>:15: SettingWithCopyWarning: \n",
            "A value is trying to be set on a copy of a slice from a DataFrame.\n",
            "Try using .loc[row_indexer,col_indexer] = value instead\n",
            "\n",
            "See the caveats in the documentation: https://pandas.pydata.org/pandas-docs/stable/user_guide/indexing.html#returning-a-view-versus-a-copy\n",
            "  filtered_purchases_df['week_of_month'] = filtered_purchases_df['event_time'].apply(lambda x: (x.day - 1) // 7 + 1)\n",
            "<ipython-input-19-0b4f8022ac1a>:16: SettingWithCopyWarning: \n",
            "A value is trying to be set on a copy of a slice from a DataFrame.\n",
            "Try using .loc[row_indexer,col_indexer] = value instead\n",
            "\n",
            "See the caveats in the documentation: https://pandas.pydata.org/pandas-docs/stable/user_guide/indexing.html#returning-a-view-versus-a-copy\n",
            "  filtered_purchases_df['is_weekend'] = filtered_purchases_df['day_of_week'].apply(lambda x: 1 if x >= 5 else 0)\n",
            "<ipython-input-19-0b4f8022ac1a>:24: SettingWithCopyWarning: \n",
            "A value is trying to be set on a copy of a slice from a DataFrame.\n",
            "Try using .loc[row_indexer,col_indexer] = value instead\n",
            "\n",
            "See the caveats in the documentation: https://pandas.pydata.org/pandas-docs/stable/user_guide/indexing.html#returning-a-view-versus-a-copy\n",
            "  filtered_purchases_df[col] = label_encoders[col].fit_transform(filtered_purchases_df[col].astype(str))\n",
            "<ipython-input-19-0b4f8022ac1a>:24: SettingWithCopyWarning: \n",
            "A value is trying to be set on a copy of a slice from a DataFrame.\n",
            "Try using .loc[row_indexer,col_indexer] = value instead\n",
            "\n",
            "See the caveats in the documentation: https://pandas.pydata.org/pandas-docs/stable/user_guide/indexing.html#returning-a-view-versus-a-copy\n",
            "  filtered_purchases_df[col] = label_encoders[col].fit_transform(filtered_purchases_df[col].astype(str))\n"
          ]
        },
        {
          "name": "stdout",
          "output_type": "stream",
          "text": [
            "Fitting 3 folds for each of 24 candidates, totalling 72 fits\n"
          ]
        },
        {
          "name": "stderr",
          "output_type": "stream",
          "text": [
            "<ipython-input-19-0b4f8022ac1a>:24: SettingWithCopyWarning: \n",
            "A value is trying to be set on a copy of a slice from a DataFrame.\n",
            "Try using .loc[row_indexer,col_indexer] = value instead\n",
            "\n",
            "See the caveats in the documentation: https://pandas.pydata.org/pandas-docs/stable/user_guide/indexing.html#returning-a-view-versus-a-copy\n",
            "  filtered_purchases_df[col] = label_encoders[col].fit_transform(filtered_purchases_df[col].astype(str))\n",
            "/usr/local/lib/python3.10/dist-packages/joblib/externals/loky/process_executor.py:752: UserWarning: A worker stopped while some jobs were given to the executor. This can be caused by a too short worker timeout or by a memory leak.\n",
            "  warnings.warn(\n"
          ]
        }
      ],
      "source": [
        "import pandas as pd\n",
        "from sklearn.model_selection import train_test_split, GridSearchCV, cross_val_score\n",
        "from sklearn.preprocessing import LabelEncoder\n",
        "from sklearn.multioutput import MultiOutputRegressor\n",
        "from sklearn.ensemble import RandomForestRegressor\n",
        "from sklearn.metrics import mean_absolute_error, make_scorer\n",
        "import json\n",
        "import ast\n",
        "\n",
        "# Preprocess the data\n",
        "filtered_purchases_df['event_time'] = pd.to_datetime(filtered_purchases_df['event_time'])\n",
        "filtered_purchases_df['hour'] = filtered_purchases_df['event_time'].dt.hour\n",
        "filtered_purchases_df['day_of_week'] = filtered_purchases_df['event_time'].dt.dayofweek\n",
        "filtered_purchases_df['day_of_month'] = filtered_purchases_df['event_time'].dt.day\n",
        "filtered_purchases_df['week_of_month'] = filtered_purchases_df['event_time'].apply(lambda x: (x.day - 1) // 7 + 1)\n",
        "filtered_purchases_df['is_weekend'] = filtered_purchases_df['day_of_week'].apply(lambda x: 1 if x >= 5 else 0)\n",
        "\n",
        "# Encode categorical variables\n",
        "label_encoders = {}\n",
        "categorical_columns = ['event_type', 'category_code', 'brand']\n",
        "\n",
        "for col in categorical_columns:\n",
        "    label_encoders[col] = LabelEncoder()\n",
        "    filtered_purchases_df[col] = label_encoders[col].fit_transform(filtered_purchases_df[col].astype(str))\n",
        "\n",
        "# Prepare features and target variables\n",
        "X = filtered_purchases_df[['product_id', 'category_id', 'category_code', 'brand', 'price', 'day_of_month', 'week_of_month', 'is_weekend']]\n",
        "y = filtered_purchases_df[['hour', 'day_of_week']]\n",
        "\n",
        "# Ensure X and y have the same number of samples\n",
        "assert X.shape[0] == y.shape[0], \"Mismatched number of samples between features and target variables.\"\n",
        "\n",
        "# Train-test split\n",
        "X_train, X_test, y_train, y_test = train_test_split(X, y, test_size=0.2, random_state=42)\n",
        "\n",
        "# Define the model and hyperparameter grid\n",
        "model = MultiOutputRegressor(RandomForestRegressor(random_state=42))\n",
        "\n",
        "param_grid = {\n",
        "    \"estimator__n_estimators\": [100, 200],\n",
        "    \"estimator__max_depth\": [10, 20, None],\n",
        "    \"estimator__min_samples_split\": [2, 5],\n",
        "    \"estimator__min_samples_leaf\": [1, 2],\n",
        "}\n",
        "\n",
        "# Define the scorer\n",
        "scorer = make_scorer(mean_absolute_error, greater_is_better=False)\n",
        "\n",
        "# Perform Grid Search with Cross-Validation\n",
        "grid_search = GridSearchCV(model, param_grid, scoring=scorer, cv=3, verbose=2, n_jobs=-1)\n",
        "grid_search.fit(X_train, y_train)\n",
        "\n",
        "# Best model\n",
        "best_model = grid_search.best_estimator_\n",
        "\n",
        "# Predictions\n",
        "y_pred = best_model.predict(X_test)\n",
        "\n"
      ]
    },
    {
      "cell_type": "code",
      "execution_count": null,
      "metadata": {
        "colab": {
          "base_uri": "https://localhost:8080/",
          "height": 600
        },
        "id": "phb15ABFstHX",
        "outputId": "309aefc0-c9e3-4191-ea59-279541cdd646"
      },
      "outputs": [
        {
          "name": "stdout",
          "output_type": "stream",
          "text": [
            "Mean Absolute Error for Hour: 3.6942864183833044\n",
            "Mean Absolute Error for Day of the Week: 0.26156060748104876\n"
          ]
        },
        {
          "data": {
            "image/png": "[encoded data removed]",
            "text/plain": [
              "<Figure size 1000x600 with 1 Axes>"
            ]
          },
          "metadata": {},
          "output_type": "display_data"
        }
      ],
      "source": [
        "# Evaluation\n",
        "hour_mae = mean_absolute_error(y_test.iloc[:, 0], y_pred[:, 0])\n",
        "day_mae = mean_absolute_error(y_test.iloc[:, 1], y_pred[:, 1])\n",
        "\n",
        "print(f'Mean Absolute Error for Hour: {hour_mae}')\n",
        "print(f'Mean Absolute Error for Day of the Week: {day_mae}')\n",
        "\n",
        "# Display feature importances\n",
        "import matplotlib.pyplot as plt\n",
        "import numpy as np\n",
        "\n",
        "feature_importances = np.mean([\n",
        "    tree.feature_importances_ for tree in best_model.estimators_[0].estimators_\n",
        "], axis=0)\n",
        "\n",
        "plt.figure(figsize=(10, 6))\n",
        "plt.bar(X.columns, feature_importances)\n",
        "plt.xlabel('Feature')\n",
        "plt.ylabel('Importance')\n",
        "plt.title('Feature Importances')\n",
        "plt.show()"
      ]
    },
    {
      "cell_type": "code",
      "execution_count": null,
      "metadata": {
        "id": "Lzs6pxI_OX6U"
      },
      "outputs": [],
      "source": [
        "import pandas as pd\n",
        "from sklearn.model_selection import train_test_split, GridSearchCV\n",
        "from sklearn.preprocessing import LabelEncoder\n",
        "from sklearn.multioutput import MultiOutputRegressor\n",
        "from sklearn.ensemble import RandomForestRegressor, GradientBoostingRegressor\n",
        "from sklearn.metrics import mean_absolute_error, make_scorer, confusion_matrix, ConfusionMatrixDisplay\n",
        "import json\n",
        "import ast\n",
        "import numpy as np\n",
        "import matplotlib.pyplot as plt"
      ]
    },
    {
      "cell_type": "code",
      "execution_count": null,
      "metadata": {
        "colab": {
          "base_uri": "https://localhost:8080/",
          "height": 1000
        },
        "id": "-U4WGzR6Mfsq",
        "outputId": "f3eb4fec-8a4a-4cb4-89e4-78ac6a57b8ac"
      },
      "outputs": [
        {
          "name": "stderr",
          "output_type": "stream",
          "text": [
            "<ipython-input-23-d231f517b052>:2: SettingWithCopyWarning: \n",
            "A value is trying to be set on a copy of a slice from a DataFrame.\n",
            "Try using .loc[row_indexer,col_indexer] = value instead\n",
            "\n",
            "See the caveats in the documentation: https://pandas.pydata.org/pandas-docs/stable/user_guide/indexing.html#returning-a-view-versus-a-copy\n",
            "  filtered_purchases_df['event_time'] = pd.to_datetime(filtered_purchases_df['event_time'])\n",
            "<ipython-input-23-d231f517b052>:3: SettingWithCopyWarning: \n",
            "A value is trying to be set on a copy of a slice from a DataFrame.\n",
            "Try using .loc[row_indexer,col_indexer] = value instead\n",
            "\n",
            "See the caveats in the documentation: https://pandas.pydata.org/pandas-docs/stable/user_guide/indexing.html#returning-a-view-versus-a-copy\n",
            "  filtered_purchases_df['hour'] = filtered_purchases_df['event_time'].dt.hour\n",
            "<ipython-input-23-d231f517b052>:4: SettingWithCopyWarning: \n",
            "A value is trying to be set on a copy of a slice from a DataFrame.\n",
            "Try using .loc[row_indexer,col_indexer] = value instead\n",
            "\n",
            "See the caveats in the documentation: https://pandas.pydata.org/pandas-docs/stable/user_guide/indexing.html#returning-a-view-versus-a-copy\n",
            "  filtered_purchases_df['day_of_week'] = filtered_purchases_df['event_time'].dt.dayofweek\n",
            "<ipython-input-23-d231f517b052>:5: SettingWithCopyWarning: \n",
            "A value is trying to be set on a copy of a slice from a DataFrame.\n",
            "Try using .loc[row_indexer,col_indexer] = value instead\n",
            "\n",
            "See the caveats in the documentation: https://pandas.pydata.org/pandas-docs/stable/user_guide/indexing.html#returning-a-view-versus-a-copy\n",
            "  filtered_purchases_df['day_of_month'] = filtered_purchases_df['event_time'].dt.day\n",
            "<ipython-input-23-d231f517b052>:6: SettingWithCopyWarning: \n",
            "A value is trying to be set on a copy of a slice from a DataFrame.\n",
            "Try using .loc[row_indexer,col_indexer] = value instead\n",
            "\n",
            "See the caveats in the documentation: https://pandas.pydata.org/pandas-docs/stable/user_guide/indexing.html#returning-a-view-versus-a-copy\n",
            "  filtered_purchases_df['week_of_month'] = filtered_purchases_df['event_time'].apply(lambda x: (x.day - 1) // 7 + 1)\n",
            "<ipython-input-23-d231f517b052>:7: SettingWithCopyWarning: \n",
            "A value is trying to be set on a copy of a slice from a DataFrame.\n",
            "Try using .loc[row_indexer,col_indexer] = value instead\n",
            "\n",
            "See the caveats in the documentation: https://pandas.pydata.org/pandas-docs/stable/user_guide/indexing.html#returning-a-view-versus-a-copy\n",
            "  filtered_purchases_df['is_weekend'] = filtered_purchases_df['day_of_week'].apply(lambda x: 1 if x >= 5 else 0)\n",
            "<ipython-input-23-d231f517b052>:15: SettingWithCopyWarning: \n",
            "A value is trying to be set on a copy of a slice from a DataFrame.\n",
            "Try using .loc[row_indexer,col_indexer] = value instead\n",
            "\n",
            "See the caveats in the documentation: https://pandas.pydata.org/pandas-docs/stable/user_guide/indexing.html#returning-a-view-versus-a-copy\n",
            "  filtered_purchases_df[col] = label_encoders[col].fit_transform(filtered_purchases_df[col].astype(str))\n",
            "<ipython-input-23-d231f517b052>:15: SettingWithCopyWarning: \n",
            "A value is trying to be set on a copy of a slice from a DataFrame.\n",
            "Try using .loc[row_indexer,col_indexer] = value instead\n",
            "\n",
            "See the caveats in the documentation: https://pandas.pydata.org/pandas-docs/stable/user_guide/indexing.html#returning-a-view-versus-a-copy\n",
            "  filtered_purchases_df[col] = label_encoders[col].fit_transform(filtered_purchases_df[col].astype(str))\n",
            "<ipython-input-23-d231f517b052>:15: SettingWithCopyWarning: \n",
            "A value is trying to be set on a copy of a slice from a DataFrame.\n",
            "Try using .loc[row_indexer,col_indexer] = value instead\n",
            "\n",
            "See the caveats in the documentation: https://pandas.pydata.org/pandas-docs/stable/user_guide/indexing.html#returning-a-view-versus-a-copy\n",
            "  filtered_purchases_df[col] = label_encoders[col].fit_transform(filtered_purchases_df[col].astype(str))\n"
          ]
        },
        {
          "name": "stdout",
          "output_type": "stream",
          "text": [
            "Fitting 3 folds for each of 24 candidates, totalling 72 fits\n",
            "Mean Absolute Error for Hour: 3.696761632701084\n",
            "Mean Absolute Error for Day of the Week: 0.44758318797751295\n"
          ]
        },
        {
          "data": {
            "image/png": "[encoded data removed]",
            "text/plain": [
              "<Figure size 1000x600 with 1 Axes>"
            ]
          },
          "metadata": {},
          "output_type": "display_data"
        }
      ],
      "source": [
        "# Preprocess the data\n",
        "filtered_purchases_df['event_time'] = pd.to_datetime(filtered_purchases_df['event_time'])\n",
        "filtered_purchases_df['hour'] = filtered_purchases_df['event_time'].dt.hour\n",
        "filtered_purchases_df['day_of_week'] = filtered_purchases_df['event_time'].dt.dayofweek\n",
        "filtered_purchases_df['day_of_month'] = filtered_purchases_df['event_time'].dt.day\n",
        "filtered_purchases_df['week_of_month'] = filtered_purchases_df['event_time'].apply(lambda x: (x.day - 1) // 7 + 1)\n",
        "filtered_purchases_df['is_weekend'] = filtered_purchases_df['day_of_week'].apply(lambda x: 1 if x >= 5 else 0)\n",
        "\n",
        "# Encode categorical variables\n",
        "label_encoders = {}\n",
        "categorical_columns = ['event_type', 'category_code', 'brand']\n",
        "\n",
        "for col in categorical_columns:\n",
        "    label_encoders[col] = LabelEncoder()\n",
        "    filtered_purchases_df[col] = label_encoders[col].fit_transform(filtered_purchases_df[col].astype(str))\n",
        "\n",
        "# Prepare features and target variables\n",
        "X = filtered_purchases_df[['product_id', 'category_id', 'category_code', 'brand', 'price', 'day_of_month', 'week_of_month', 'is_weekend']]\n",
        "y = filtered_purchases_df[['hour', 'day_of_week']]\n",
        "\n",
        "# Ensure X and y have the same number of samples\n",
        "assert X.shape[0] == y.shape[0], \"Mismatched number of samples between features and target variables.\"\n",
        "\n",
        "# Train-test split\n",
        "X_train, X_test, y_train, y_test = train_test_split(X, y, test_size=0.2, random_state=42)\n",
        "\n",
        "# Define the model and hyperparameter grid\n",
        "model = MultiOutputRegressor(GradientBoostingRegressor(random_state=42))\n",
        "\n",
        "param_grid = {\n",
        "    \"estimator__n_estimators\": [100, 200],\n",
        "    \"estimator__max_depth\": [3, 5, 10],\n",
        "    \"estimator__min_samples_split\": [2, 5],\n",
        "    \"estimator__min_samples_leaf\": [1, 2],\n",
        "}\n",
        "\n",
        "# Define the scorer\n",
        "scorer = make_scorer(mean_absolute_error, greater_is_better=False)\n",
        "\n",
        "# Perform Grid Search with Cross-Validation\n",
        "grid_search = GridSearchCV(model, param_grid, scoring=scorer, cv=3, verbose=2, n_jobs=-1)\n",
        "grid_search.fit(X_train, y_train)\n",
        "\n",
        "# Best model\n",
        "best_model = grid_search.best_estimator_\n",
        "\n",
        "# Predictions\n",
        "y_pred = best_model.predict(X_test)\n",
        "\n",
        "# Evaluation\n",
        "hour_mae = mean_absolute_error(y_test.iloc[:, 0], y_pred[:, 0])\n",
        "day_mae = mean_absolute_error(y_test.iloc[:, 1], y_pred[:, 1])\n",
        "\n",
        "print(f'Mean Absolute Error for Hour: {hour_mae}')\n",
        "print(f'Mean Absolute Error for Day of the Week: {day_mae}')\n",
        "\n",
        "# Display feature importances\n",
        "feature_importances = np.mean([\n",
        "    tree.feature_importances_ for tree in best_model.estimators_\n",
        "], axis=0)\n",
        "\n",
        "plt.figure(figsize=(10, 6))\n",
        "plt.bar(X.columns, feature_importances)\n",
        "plt.xlabel('Feature')\n",
        "plt.ylabel('Importance')\n",
        "plt.title('Feature Importances')\n",
        "plt.show()"
      ]
    },
    {
      "cell_type": "code",
      "execution_count": null,
      "metadata": {
        "colab": {
          "base_uri": "https://localhost:8080/"
        },
        "id": "g-IUlfyBSw_7",
        "outputId": "ff42a7b4-c601-42dc-ee9e-829059ee254b"
      },
      "outputs": [
        {
          "name": "stdout",
          "output_type": "stream",
          "text": [
            "Requirement already satisfied: xgboost in /usr/local/lib/python3.10/dist-packages (2.0.3)\n",
            "Requirement already satisfied: numpy in /usr/local/lib/python3.10/dist-packages (from xgboost) (1.25.2)\n",
            "Requirement already satisfied: scipy in /usr/local/lib/python3.10/dist-packages (from xgboost) (1.11.4)\n"
          ]
        }
      ],
      "source": [
        "!pip install xgboost"
      ]
    },
    {
      "cell_type": "code",
      "execution_count": null,
      "metadata": {
        "colab": {
          "base_uri": "https://localhost:8080/",
          "height": 1000
        },
        "id": "wjZPU5KASxeE",
        "outputId": "0fbd90b7-fd41-4fd4-e12f-f535bc2b327f"
      },
      "outputs": [
        {
          "name": "stderr",
          "output_type": "stream",
          "text": [
            "<ipython-input-25-ae228c845e61>:14: SettingWithCopyWarning: \n",
            "A value is trying to be set on a copy of a slice from a DataFrame.\n",
            "Try using .loc[row_indexer,col_indexer] = value instead\n",
            "\n",
            "See the caveats in the documentation: https://pandas.pydata.org/pandas-docs/stable/user_guide/indexing.html#returning-a-view-versus-a-copy\n",
            "  filtered_purchases_df['event_time'] = pd.to_datetime(filtered_purchases_df['event_time'])\n",
            "<ipython-input-25-ae228c845e61>:15: SettingWithCopyWarning: \n",
            "A value is trying to be set on a copy of a slice from a DataFrame.\n",
            "Try using .loc[row_indexer,col_indexer] = value instead\n",
            "\n",
            "See the caveats in the documentation: https://pandas.pydata.org/pandas-docs/stable/user_guide/indexing.html#returning-a-view-versus-a-copy\n",
            "  filtered_purchases_df['hour'] = filtered_purchases_df['event_time'].dt.hour\n",
            "<ipython-input-25-ae228c845e61>:16: SettingWithCopyWarning: \n",
            "A value is trying to be set on a copy of a slice from a DataFrame.\n",
            "Try using .loc[row_indexer,col_indexer] = value instead\n",
            "\n",
            "See the caveats in the documentation: https://pandas.pydata.org/pandas-docs/stable/user_guide/indexing.html#returning-a-view-versus-a-copy\n",
            "  filtered_purchases_df['day_of_week'] = filtered_purchases_df['event_time'].dt.dayofweek\n",
            "<ipython-input-25-ae228c845e61>:17: SettingWithCopyWarning: \n",
            "A value is trying to be set on a copy of a slice from a DataFrame.\n",
            "Try using .loc[row_indexer,col_indexer] = value instead\n",
            "\n",
            "See the caveats in the documentation: https://pandas.pydata.org/pandas-docs/stable/user_guide/indexing.html#returning-a-view-versus-a-copy\n",
            "  filtered_purchases_df['day_of_month'] = filtered_purchases_df['event_time'].dt.day\n",
            "<ipython-input-25-ae228c845e61>:18: SettingWithCopyWarning: \n",
            "A value is trying to be set on a copy of a slice from a DataFrame.\n",
            "Try using .loc[row_indexer,col_indexer] = value instead\n",
            "\n",
            "See the caveats in the documentation: https://pandas.pydata.org/pandas-docs/stable/user_guide/indexing.html#returning-a-view-versus-a-copy\n",
            "  filtered_purchases_df['week_of_month'] = filtered_purchases_df['event_time'].apply(lambda x: (x.day - 1) // 7 + 1)\n",
            "<ipython-input-25-ae228c845e61>:19: SettingWithCopyWarning: \n",
            "A value is trying to be set on a copy of a slice from a DataFrame.\n",
            "Try using .loc[row_indexer,col_indexer] = value instead\n",
            "\n",
            "See the caveats in the documentation: https://pandas.pydata.org/pandas-docs/stable/user_guide/indexing.html#returning-a-view-versus-a-copy\n",
            "  filtered_purchases_df['is_weekend'] = filtered_purchases_df['day_of_week'].apply(lambda x: 1 if x >= 5 else 0)\n",
            "<ipython-input-25-ae228c845e61>:27: SettingWithCopyWarning: \n",
            "A value is trying to be set on a copy of a slice from a DataFrame.\n",
            "Try using .loc[row_indexer,col_indexer] = value instead\n",
            "\n",
            "See the caveats in the documentation: https://pandas.pydata.org/pandas-docs/stable/user_guide/indexing.html#returning-a-view-versus-a-copy\n",
            "  filtered_purchases_df[col] = label_encoders[col].fit_transform(filtered_purchases_df[col].astype(str))\n",
            "<ipython-input-25-ae228c845e61>:27: SettingWithCopyWarning: \n",
            "A value is trying to be set on a copy of a slice from a DataFrame.\n",
            "Try using .loc[row_indexer,col_indexer] = value instead\n",
            "\n",
            "See the caveats in the documentation: https://pandas.pydata.org/pandas-docs/stable/user_guide/indexing.html#returning-a-view-versus-a-copy\n",
            "  filtered_purchases_df[col] = label_encoders[col].fit_transform(filtered_purchases_df[col].astype(str))\n",
            "<ipython-input-25-ae228c845e61>:27: SettingWithCopyWarning: \n",
            "A value is trying to be set on a copy of a slice from a DataFrame.\n",
            "Try using .loc[row_indexer,col_indexer] = value instead\n",
            "\n",
            "See the caveats in the documentation: https://pandas.pydata.org/pandas-docs/stable/user_guide/indexing.html#returning-a-view-versus-a-copy\n",
            "  filtered_purchases_df[col] = label_encoders[col].fit_transform(filtered_purchases_df[col].astype(str))\n"
          ]
        },
        {
          "name": "stdout",
          "output_type": "stream",
          "text": [
            "Fitting 3 folds for each of 81 candidates, totalling 243 fits\n",
            "Mean Absolute Error for Hour: 3.729045062502541\n",
            "Mean Absolute Error for Day of the Week: 0.47041717399979455\n"
          ]
        },
        {
          "data": {
            "image/png": "[encoded data removed]",
            "text/plain": [
              "<Figure size 1000x600 with 1 Axes>"
            ]
          },
          "metadata": {},
          "output_type": "display_data"
        }
      ],
      "source": [
        "import pandas as pd\n",
        "from sklearn.model_selection import train_test_split, GridSearchCV\n",
        "from sklearn.preprocessing import LabelEncoder\n",
        "from sklearn.multioutput import MultiOutputRegressor\n",
        "from sklearn.metrics import mean_absolute_error, make_scorer, confusion_matrix, ConfusionMatrixDisplay\n",
        "import json\n",
        "import ast\n",
        "import numpy as np\n",
        "import matplotlib.pyplot as plt\n",
        "import xgboost as xgb\n",
        "\n",
        "\n",
        "# Preprocess the data\n",
        "filtered_purchases_df['event_time'] = pd.to_datetime(filtered_purchases_df['event_time'])\n",
        "filtered_purchases_df['hour'] = filtered_purchases_df['event_time'].dt.hour\n",
        "filtered_purchases_df['day_of_week'] = filtered_purchases_df['event_time'].dt.dayofweek\n",
        "filtered_purchases_df['day_of_month'] = filtered_purchases_df['event_time'].dt.day\n",
        "filtered_purchases_df['week_of_month'] = filtered_purchases_df['event_time'].apply(lambda x: (x.day - 1) // 7 + 1)\n",
        "filtered_purchases_df['is_weekend'] = filtered_purchases_df['day_of_week'].apply(lambda x: 1 if x >= 5 else 0)\n",
        "\n",
        "# Encode categorical variables\n",
        "label_encoders = {}\n",
        "categorical_columns = ['event_type', 'category_code', 'brand']\n",
        "\n",
        "for col in categorical_columns:\n",
        "    label_encoders[col] = LabelEncoder()\n",
        "    filtered_purchases_df[col] = label_encoders[col].fit_transform(filtered_purchases_df[col].astype(str))\n",
        "\n",
        "# Prepare features and target variables\n",
        "X = filtered_purchases_df[['product_id', 'category_id', 'category_code', 'brand', 'price', 'day_of_month', 'week_of_month', 'is_weekend']]\n",
        "y = filtered_purchases_df[['hour', 'day_of_week']]\n",
        "\n",
        "# Ensure X and y have the same number of samples\n",
        "assert X.shape[0] == y.shape[0], \"Mismatched number of samples between features and target variables.\"\n",
        "\n",
        "# Train-test split\n",
        "X_train, X_test, y_train, y_test = train_test_split(X, y, test_size=0.2, random_state=42)\n",
        "\n",
        "# Define the model and hyperparameter grid for XGBoost\n",
        "model = MultiOutputRegressor(xgb.XGBRegressor(objective='reg:squarederror', random_state=42))\n",
        "\n",
        "param_grid = {\n",
        "    \"estimator__n_estimators\": [100, 200, 300],\n",
        "    \"estimator__max_depth\": [3, 5, 7],\n",
        "    \"estimator__learning_rate\": [0.01, 0.1, 0.2],\n",
        "    \"estimator__subsample\": [0.7, 0.8, 0.9],\n",
        "}\n",
        "\n",
        "# Define the scorer\n",
        "scorer = make_scorer(mean_absolute_error, greater_is_better=False)\n",
        "\n",
        "# Perform Grid Search with Cross-Validation\n",
        "grid_search = GridSearchCV(model, param_grid, scoring=scorer, cv=3, verbose=2, n_jobs=-1)\n",
        "grid_search.fit(X_train, y_train)\n",
        "\n",
        "# Best model\n",
        "best_model = grid_search.best_estimator_\n",
        "\n",
        "# Predictions\n",
        "y_pred = best_model.predict(X_test)\n",
        "\n",
        "# Evaluation\n",
        "hour_mae = mean_absolute_error(y_test.iloc[:, 0], y_pred[:, 0])\n",
        "day_mae = mean_absolute_error(y_test.iloc[:, 1], y_pred[:, 1])\n",
        "\n",
        "print(f'Mean Absolute Error for Hour: {hour_mae}')\n",
        "print(f'Mean Absolute Error for Day of the Week: {day_mae}')\n",
        "\n",
        "# Display feature importances\n",
        "feature_importances = np.mean([\n",
        "    tree.feature_importances_ for tree in best_model.estimators_\n",
        "], axis=0)\n",
        "\n",
        "plt.figure(figsize=(10, 6))\n",
        "plt.bar(X.columns, feature_importances)\n",
        "plt.xlabel('Feature')\n",
        "plt.ylabel('Importance')\n",
        "plt.title('Feature Importances')\n",
        "plt.show()\n"
      ]
    },
    {
      "cell_type": "code",
      "execution_count": null,
      "metadata": {
        "colab": {
          "base_uri": "https://localhost:8080/"
        },
        "id": "l33TqINnWjcz",
        "outputId": "ea40fb7c-6863-4517-c74e-17370429df78"
      },
      "outputs": [
        {
          "name": "stdout",
          "output_type": "stream",
          "text": [
            "Requirement already satisfied: xgboost in /usr/local/lib/python3.10/dist-packages (2.0.3)\n",
            "Requirement already satisfied: numpy in /usr/local/lib/python3.10/dist-packages (from xgboost) (1.25.2)\n",
            "Requirement already satisfied: scipy in /usr/local/lib/python3.10/dist-packages (from xgboost) (1.11.4)\n",
            "Requirement already satisfied: scikit-learn in /usr/local/lib/python3.10/dist-packages (1.2.2)\n",
            "Requirement already satisfied: numpy>=1.17.3 in /usr/local/lib/python3.10/dist-packages (from scikit-learn) (1.25.2)\n",
            "Requirement already satisfied: scipy>=1.3.2 in /usr/local/lib/python3.10/dist-packages (from scikit-learn) (1.11.4)\n",
            "Requirement already satisfied: joblib>=1.1.1 in /usr/local/lib/python3.10/dist-packages (from scikit-learn) (1.4.2)\n",
            "Requirement already satisfied: threadpoolctl>=2.0.0 in /usr/local/lib/python3.10/dist-packages (from scikit-learn) (3.5.0)\n"
          ]
        }
      ],
      "source": [
        "!pip install xgboost\n",
        "!pip install scikit-learn\n"
      ]
    },
    {
      "cell_type": "code",
      "execution_count": null,
      "metadata": {
        "colab": {
          "base_uri": "https://localhost:8080/"
        },
        "id": "-peKPhtZWnIX",
        "outputId": "b185309f-577d-4c0c-af9c-3d7dc8d18b06"
      },
      "outputs": [
        {
          "name": "stdout",
          "output_type": "stream",
          "text": [
            "Fitting 3 folds for each of 81 candidates, totalling 243 fits\n",
            "Mean Absolute Error for Hour: 3.732687636026086\n",
            "Mean Absolute Error for Day of the Week: 0.46277905439855316\n"
          ]
        }
      ],
      "source": [
        "import pandas as pd\n",
        "from sklearn.model_selection import train_test_split, GridSearchCV\n",
        "from sklearn.preprocessing import LabelEncoder, StandardScaler\n",
        "from sklearn.multioutput import MultiOutputRegressor\n",
        "from sklearn.metrics import mean_absolute_error, make_scorer, confusion_matrix, ConfusionMatrixDisplay\n",
        "import json\n",
        "import ast\n",
        "import numpy as np\n",
        "import matplotlib.pyplot as plt\n",
        "import xgboost as xgb\n",
        "\n",
        "\n",
        "# Preprocess the data\n",
        "filtered_purchases_df['event_time'] = pd.to_datetime(filtered_purchases_df['event_time'])\n",
        "filtered_purchases_df['hour'] = filtered_purchases_df['event_time'].dt.hour\n",
        "filtered_purchases_df['day_of_week'] = filtered_purchases_df['event_time'].dt.dayofweek\n",
        "filtered_purchases_df['day_of_month'] = filtered_purchases_df['event_time'].dt.day\n",
        "filtered_purchases_df['week_of_month'] = filtered_purchases_df['event_time'].apply(lambda x: (x.day - 1) // 7 + 1)\n",
        "filtered_purchases_df['is_weekend'] = filtered_purchases_df['day_of_week'].apply(lambda x: 1 if x >= 5 else 0)\n",
        "\n",
        "# Adding lag features (previous hour sales)\n",
        "filtered_purchases_df = filtered_purchases_df.sort_values(by='event_time')\n",
        "filtered_purchases_df['prev_hour_sales'] = filtered_purchases_df.groupby('product_id')['price'].shift(1).fillna(0)\n",
        "\n",
        "# Encode categorical variables\n",
        "label_encoders = {}\n",
        "categorical_columns = ['event_type', 'category_code', 'brand']\n",
        "\n",
        "for col in categorical_columns:\n",
        "    label_encoders[col] = LabelEncoder()\n",
        "    filtered_purchases_df[col] = label_encoders[col].fit_transform(filtered_purchases_df[col].astype(str))\n",
        "\n",
        "# Prepare features and target variables\n",
        "X = filtered_purchases_df[['product_id', 'category_id', 'category_code', 'brand', 'price', 'day_of_month', 'week_of_month', 'is_weekend', 'prev_hour_sales']]\n",
        "y = filtered_purchases_df[['hour', 'day_of_week']]\n",
        "\n",
        "# Normalize the features\n",
        "scaler = StandardScaler()\n",
        "X = scaler.fit_transform(X)\n",
        "\n",
        "# Ensure X and y have the same number of samples\n",
        "assert X.shape[0] == y.shape[0], \"Mismatched number of samples between features and target variables.\"\n",
        "\n",
        "# Train-test split\n",
        "X_train, X_test, y_train, y_test = train_test_split(X, y, test_size=0.2, random_state=42)\n",
        "\n",
        "# Define the model and hyperparameter grid for XGBoost\n",
        "model = MultiOutputRegressor(xgb.XGBRegressor(objective='reg:squarederror', random_state=42))\n",
        "\n",
        "param_grid = {\n",
        "    \"estimator__n_estimators\": [100, 200, 300],\n",
        "    \"estimator__max_depth\": [3, 5, 7],\n",
        "    \"estimator__learning_rate\": [0.01, 0.1, 0.2],\n",
        "    \"estimator__subsample\": [0.7, 0.8, 0.9],\n",
        "}\n",
        "\n",
        "# Define the scorer\n",
        "scorer = make_scorer(mean_absolute_error, greater_is_better=False)\n",
        "\n",
        "# Perform Grid Search with Cross-Validation\n",
        "grid_search = GridSearchCV(model, param_grid, scoring=scorer, cv=3, verbose=2, n_jobs=-1)\n",
        "grid_search.fit(X_train, y_train)\n",
        "\n",
        "# Best model\n",
        "best_model = grid_search.best_estimator_\n",
        "\n",
        "# Predictions\n",
        "y_pred = best_model.predict(X_test)\n",
        "\n",
        "# Evaluation\n",
        "hour_mae = mean_absolute_error(y_test.iloc[:, 0], y_pred[:, 0])\n",
        "day_mae = mean_absolute_error(y_test.iloc[:, 1], y_pred[:, 1])\n",
        "\n",
        "print(f'Mean Absolute Error for Hour: {hour_mae}')\n",
        "print(f'Mean Absolute Error for Day of the Week: {day_mae}')\n",
        "\n"
      ]
    },
    {
      "cell_type": "code",
      "execution_count": null,
      "metadata": {
        "id": "QywG9eqaWvq_"
      },
      "outputs": [],
      "source": [
        "from sklearn.metrics import confusion_matrix, ConfusionMatrixDisplay\n",
        "\n",
        "# Convert predictions to the nearest integer for classification evaluation\n",
        "y_test_class = y_test.round().astype(int)\n",
        "y_pred_class = np.round(y_pred).astype(int)\n",
        "\n",
        "# Confusion matrix for Day of the Week\n",
        "cm_day = confusion_matrix(y_test_class.iloc[:, 1], y_pred_class[:, 1])\n",
        "disp_day = ConfusionMatrixDisplay(confusion_matrix=cm_day, display_labels=range(7))\n",
        "disp_day.plot(cmap=plt.cm.Blues)\n",
        "plt.title('Confusion Matrix for Day of the Week')\n",
        "plt.show()\n",
        "\n",
        "# Confusion matrix for Hour\n",
        "cm_hour = confusion_matrix(y_test_class.iloc[:, 0], y_pred_class[:, 0])\n",
        "disp_hour = ConfusionMatrixDisplay(confusion_matrix=cm_hour, display_labels=range(24))\n",
        "disp_hour.plot(cmap=plt.cm.Blues)\n",
        "plt.title('Confusion Matrix for Hour')\n",
        "plt.show()\n"
      ]
    },
    {
      "cell_type": "code",
      "execution_count": null,
      "metadata": {
        "colab": {
          "base_uri": "https://localhost:8080/",
          "height": 778
        },
        "id": "jQRwK7zhYNxL",
        "outputId": "f356e9d1-e4ae-4219-fdec-636a4379e41c"
      },
      "outputs": [
        {
          "ename": "ValueError",
          "evalue": "The number of FixedLocator locations (8), usually from a call to set_ticks, does not match the number of labels (7).",
          "output_type": "error",
          "traceback": [
            "\u001b[0;31m---------------------------------------------------------------------------\u001b[0m",
            "\u001b[0;31mValueError\u001b[0m                                Traceback (most recent call last)",
            "\u001b[0;32m<ipython-input-30-dcae0eeb4855>\u001b[0m in \u001b[0;36m<cell line: 10>\u001b[0;34m()\u001b[0m\n\u001b[1;32m      8\u001b[0m \u001b[0mcm_day\u001b[0m \u001b[0;34m=\u001b[0m \u001b[0mconfusion_matrix\u001b[0m\u001b[0;34m(\u001b[0m\u001b[0my_test_class\u001b[0m\u001b[0;34m.\u001b[0m\u001b[0miloc\u001b[0m\u001b[0;34m[\u001b[0m\u001b[0;34m:\u001b[0m\u001b[0;34m,\u001b[0m \u001b[0;36m1\u001b[0m\u001b[0;34m]\u001b[0m\u001b[0;34m,\u001b[0m \u001b[0my_pred_class\u001b[0m\u001b[0;34m[\u001b[0m\u001b[0;34m:\u001b[0m\u001b[0;34m,\u001b[0m \u001b[0;36m1\u001b[0m\u001b[0;34m]\u001b[0m\u001b[0;34m)\u001b[0m\u001b[0;34m\u001b[0m\u001b[0;34m\u001b[0m\u001b[0m\n\u001b[1;32m      9\u001b[0m \u001b[0mdisp_day\u001b[0m \u001b[0;34m=\u001b[0m \u001b[0mConfusionMatrixDisplay\u001b[0m\u001b[0;34m(\u001b[0m\u001b[0mconfusion_matrix\u001b[0m\u001b[0;34m=\u001b[0m\u001b[0mcm_day\u001b[0m\u001b[0;34m,\u001b[0m \u001b[0mdisplay_labels\u001b[0m\u001b[0;34m=\u001b[0m\u001b[0mrange\u001b[0m\u001b[0;34m(\u001b[0m\u001b[0;36m7\u001b[0m\u001b[0;34m)\u001b[0m\u001b[0;34m)\u001b[0m\u001b[0;34m\u001b[0m\u001b[0;34m\u001b[0m\u001b[0m\n\u001b[0;32m---> 10\u001b[0;31m \u001b[0mdisp_day\u001b[0m\u001b[0;34m.\u001b[0m\u001b[0mplot\u001b[0m\u001b[0;34m(\u001b[0m\u001b[0mcmap\u001b[0m\u001b[0;34m=\u001b[0m\u001b[0mplt\u001b[0m\u001b[0;34m.\u001b[0m\u001b[0mcm\u001b[0m\u001b[0;34m.\u001b[0m\u001b[0mBlues\u001b[0m\u001b[0;34m)\u001b[0m\u001b[0;34m\u001b[0m\u001b[0;34m\u001b[0m\u001b[0m\n\u001b[0m\u001b[1;32m     11\u001b[0m \u001b[0mplt\u001b[0m\u001b[0;34m.\u001b[0m\u001b[0mtitle\u001b[0m\u001b[0;34m(\u001b[0m\u001b[0;34m'Confusion Matrix for Day of the Week'\u001b[0m\u001b[0;34m)\u001b[0m\u001b[0;34m\u001b[0m\u001b[0;34m\u001b[0m\u001b[0m\n\u001b[1;32m     12\u001b[0m \u001b[0mplt\u001b[0m\u001b[0;34m.\u001b[0m\u001b[0mshow\u001b[0m\u001b[0;34m(\u001b[0m\u001b[0;34m)\u001b[0m\u001b[0;34m\u001b[0m\u001b[0;34m\u001b[0m\u001b[0m\n",
            "\u001b[0;32m/usr/local/lib/python3.10/dist-packages/sklearn/metrics/_plot/confusion_matrix.py\u001b[0m in \u001b[0;36mplot\u001b[0;34m(self, include_values, cmap, xticks_rotation, values_format, ax, colorbar, im_kw, text_kw)\u001b[0m\n\u001b[1;32m    179\u001b[0m         \u001b[0;32mif\u001b[0m \u001b[0mcolorbar\u001b[0m\u001b[0;34m:\u001b[0m\u001b[0;34m\u001b[0m\u001b[0;34m\u001b[0m\u001b[0m\n\u001b[1;32m    180\u001b[0m             \u001b[0mfig\u001b[0m\u001b[0;34m.\u001b[0m\u001b[0mcolorbar\u001b[0m\u001b[0;34m(\u001b[0m\u001b[0mself\u001b[0m\u001b[0;34m.\u001b[0m\u001b[0mim_\u001b[0m\u001b[0;34m,\u001b[0m \u001b[0max\u001b[0m\u001b[0;34m=\u001b[0m\u001b[0max\u001b[0m\u001b[0;34m)\u001b[0m\u001b[0;34m\u001b[0m\u001b[0;34m\u001b[0m\u001b[0m\n\u001b[0;32m--> 181\u001b[0;31m         ax.set(\n\u001b[0m\u001b[1;32m    182\u001b[0m             \u001b[0mxticks\u001b[0m\u001b[0;34m=\u001b[0m\u001b[0mnp\u001b[0m\u001b[0;34m.\u001b[0m\u001b[0marange\u001b[0m\u001b[0;34m(\u001b[0m\u001b[0mn_classes\u001b[0m\u001b[0;34m)\u001b[0m\u001b[0;34m,\u001b[0m\u001b[0;34m\u001b[0m\u001b[0;34m\u001b[0m\u001b[0m\n\u001b[1;32m    183\u001b[0m             \u001b[0myticks\u001b[0m\u001b[0;34m=\u001b[0m\u001b[0mnp\u001b[0m\u001b[0;34m.\u001b[0m\u001b[0marange\u001b[0m\u001b[0;34m(\u001b[0m\u001b[0mn_classes\u001b[0m\u001b[0;34m)\u001b[0m\u001b[0;34m,\u001b[0m\u001b[0;34m\u001b[0m\u001b[0;34m\u001b[0m\u001b[0m\n",
            "\u001b[0;32m/usr/local/lib/python3.10/dist-packages/matplotlib/artist.py\u001b[0m in \u001b[0;36m<lambda>\u001b[0;34m(self, **kwargs)\u001b[0m\n\u001b[1;32m    145\u001b[0m             \u001b[0;32mreturn\u001b[0m\u001b[0;34m\u001b[0m\u001b[0;34m\u001b[0m\u001b[0m\n\u001b[1;32m    146\u001b[0m \u001b[0;34m\u001b[0m\u001b[0m\n\u001b[0;32m--> 147\u001b[0;31m         \u001b[0mcls\u001b[0m\u001b[0;34m.\u001b[0m\u001b[0mset\u001b[0m \u001b[0;34m=\u001b[0m \u001b[0;32mlambda\u001b[0m \u001b[0mself\u001b[0m\u001b[0;34m,\u001b[0m \u001b[0;34m**\u001b[0m\u001b[0mkwargs\u001b[0m\u001b[0;34m:\u001b[0m \u001b[0mArtist\u001b[0m\u001b[0;34m.\u001b[0m\u001b[0mset\u001b[0m\u001b[0;34m(\u001b[0m\u001b[0mself\u001b[0m\u001b[0;34m,\u001b[0m \u001b[0;34m**\u001b[0m\u001b[0mkwargs\u001b[0m\u001b[0;34m)\u001b[0m\u001b[0;34m\u001b[0m\u001b[0;34m\u001b[0m\u001b[0m\n\u001b[0m\u001b[1;32m    148\u001b[0m         \u001b[0mcls\u001b[0m\u001b[0;34m.\u001b[0m\u001b[0mset\u001b[0m\u001b[0;34m.\u001b[0m\u001b[0m__name__\u001b[0m \u001b[0;34m=\u001b[0m \u001b[0;34m\"set\"\u001b[0m\u001b[0;34m\u001b[0m\u001b[0;34m\u001b[0m\u001b[0m\n\u001b[1;32m    149\u001b[0m         \u001b[0mcls\u001b[0m\u001b[0;34m.\u001b[0m\u001b[0mset\u001b[0m\u001b[0;34m.\u001b[0m\u001b[0m__qualname__\u001b[0m \u001b[0;34m=\u001b[0m \u001b[0;34mf\"{cls.__qualname__}.set\"\u001b[0m\u001b[0;34m\u001b[0m\u001b[0;34m\u001b[0m\u001b[0m\n",
            "\u001b[0;32m/usr/local/lib/python3.10/dist-packages/matplotlib/artist.py\u001b[0m in \u001b[0;36mset\u001b[0;34m(self, **kwargs)\u001b[0m\n\u001b[1;32m   1229\u001b[0m         \u001b[0;31m# Artist._update_set_signature_and_docstring() at the end of the\u001b[0m\u001b[0;34m\u001b[0m\u001b[0;34m\u001b[0m\u001b[0m\n\u001b[1;32m   1230\u001b[0m         \u001b[0;31m# module.\u001b[0m\u001b[0;34m\u001b[0m\u001b[0;34m\u001b[0m\u001b[0m\n\u001b[0;32m-> 1231\u001b[0;31m         \u001b[0;32mreturn\u001b[0m \u001b[0mself\u001b[0m\u001b[0;34m.\u001b[0m\u001b[0m_internal_update\u001b[0m\u001b[0;34m(\u001b[0m\u001b[0mcbook\u001b[0m\u001b[0;34m.\u001b[0m\u001b[0mnormalize_kwargs\u001b[0m\u001b[0;34m(\u001b[0m\u001b[0mkwargs\u001b[0m\u001b[0;34m,\u001b[0m \u001b[0mself\u001b[0m\u001b[0;34m)\u001b[0m\u001b[0;34m)\u001b[0m\u001b[0;34m\u001b[0m\u001b[0;34m\u001b[0m\u001b[0m\n\u001b[0m\u001b[1;32m   1232\u001b[0m \u001b[0;34m\u001b[0m\u001b[0m\n\u001b[1;32m   1233\u001b[0m     \u001b[0;34m@\u001b[0m\u001b[0mcontextlib\u001b[0m\u001b[0;34m.\u001b[0m\u001b[0mcontextmanager\u001b[0m\u001b[0;34m\u001b[0m\u001b[0;34m\u001b[0m\u001b[0m\n",
            "\u001b[0;32m/usr/local/lib/python3.10/dist-packages/matplotlib/artist.py\u001b[0m in \u001b[0;36m_internal_update\u001b[0;34m(self, kwargs)\u001b[0m\n\u001b[1;32m   1221\u001b[0m         \u001b[0mThe\u001b[0m \u001b[0mlack\u001b[0m \u001b[0mof\u001b[0m \u001b[0mprenormalization\u001b[0m \u001b[0;32mis\u001b[0m \u001b[0mto\u001b[0m \u001b[0mmaintain\u001b[0m \u001b[0mbackcompatibility\u001b[0m\u001b[0;34m.\u001b[0m\u001b[0;34m\u001b[0m\u001b[0;34m\u001b[0m\u001b[0m\n\u001b[1;32m   1222\u001b[0m         \"\"\"\n\u001b[0;32m-> 1223\u001b[0;31m         return self._update_props(\n\u001b[0m\u001b[1;32m   1224\u001b[0m             \u001b[0mkwargs\u001b[0m\u001b[0;34m,\u001b[0m \u001b[0;34m\"{cls.__name__}.set() got an unexpected keyword argument \"\u001b[0m\u001b[0;34m\u001b[0m\u001b[0;34m\u001b[0m\u001b[0m\n\u001b[1;32m   1225\u001b[0m             \"{prop_name!r}\")\n",
            "\u001b[0;32m/usr/local/lib/python3.10/dist-packages/matplotlib/artist.py\u001b[0m in \u001b[0;36m_update_props\u001b[0;34m(self, props, errfmt)\u001b[0m\n\u001b[1;32m   1197\u001b[0m                         raise AttributeError(\n\u001b[1;32m   1198\u001b[0m                             errfmt.format(cls=type(self), prop_name=k))\n\u001b[0;32m-> 1199\u001b[0;31m                     \u001b[0mret\u001b[0m\u001b[0;34m.\u001b[0m\u001b[0mappend\u001b[0m\u001b[0;34m(\u001b[0m\u001b[0mfunc\u001b[0m\u001b[0;34m(\u001b[0m\u001b[0mv\u001b[0m\u001b[0;34m)\u001b[0m\u001b[0;34m)\u001b[0m\u001b[0;34m\u001b[0m\u001b[0;34m\u001b[0m\u001b[0m\n\u001b[0m\u001b[1;32m   1200\u001b[0m         \u001b[0;32mif\u001b[0m \u001b[0mret\u001b[0m\u001b[0;34m:\u001b[0m\u001b[0;34m\u001b[0m\u001b[0;34m\u001b[0m\u001b[0m\n\u001b[1;32m   1201\u001b[0m             \u001b[0mself\u001b[0m\u001b[0;34m.\u001b[0m\u001b[0mpchanged\u001b[0m\u001b[0;34m(\u001b[0m\u001b[0;34m)\u001b[0m\u001b[0;34m\u001b[0m\u001b[0;34m\u001b[0m\u001b[0m\n",
            "\u001b[0;32m/usr/local/lib/python3.10/dist-packages/matplotlib/axes/_base.py\u001b[0m in \u001b[0;36mwrapper\u001b[0;34m(self, *args, **kwargs)\u001b[0m\n\u001b[1;32m     72\u001b[0m \u001b[0;34m\u001b[0m\u001b[0m\n\u001b[1;32m     73\u001b[0m         \u001b[0;32mdef\u001b[0m \u001b[0mwrapper\u001b[0m\u001b[0;34m(\u001b[0m\u001b[0mself\u001b[0m\u001b[0;34m,\u001b[0m \u001b[0;34m*\u001b[0m\u001b[0margs\u001b[0m\u001b[0;34m,\u001b[0m \u001b[0;34m**\u001b[0m\u001b[0mkwargs\u001b[0m\u001b[0;34m)\u001b[0m\u001b[0;34m:\u001b[0m\u001b[0;34m\u001b[0m\u001b[0;34m\u001b[0m\u001b[0m\n\u001b[0;32m---> 74\u001b[0;31m             \u001b[0;32mreturn\u001b[0m \u001b[0mget_method\u001b[0m\u001b[0;34m(\u001b[0m\u001b[0mself\u001b[0m\u001b[0;34m)\u001b[0m\u001b[0;34m(\u001b[0m\u001b[0;34m*\u001b[0m\u001b[0margs\u001b[0m\u001b[0;34m,\u001b[0m \u001b[0;34m**\u001b[0m\u001b[0mkwargs\u001b[0m\u001b[0;34m)\u001b[0m\u001b[0;34m\u001b[0m\u001b[0;34m\u001b[0m\u001b[0m\n\u001b[0m\u001b[1;32m     75\u001b[0m \u001b[0;34m\u001b[0m\u001b[0m\n\u001b[1;32m     76\u001b[0m         \u001b[0mwrapper\u001b[0m\u001b[0;34m.\u001b[0m\u001b[0m__module__\u001b[0m \u001b[0;34m=\u001b[0m \u001b[0mowner\u001b[0m\u001b[0;34m.\u001b[0m\u001b[0m__module__\u001b[0m\u001b[0;34m\u001b[0m\u001b[0;34m\u001b[0m\u001b[0m\n",
            "\u001b[0;32m/usr/local/lib/python3.10/dist-packages/matplotlib/_api/deprecation.py\u001b[0m in \u001b[0;36mwrapper\u001b[0;34m(*args, **kwargs)\u001b[0m\n\u001b[1;32m    295\u001b[0m                 f\"for the old name will be dropped %(removal)s.\")\n\u001b[1;32m    296\u001b[0m             \u001b[0mkwargs\u001b[0m\u001b[0;34m[\u001b[0m\u001b[0mnew\u001b[0m\u001b[0;34m]\u001b[0m \u001b[0;34m=\u001b[0m \u001b[0mkwargs\u001b[0m\u001b[0;34m.\u001b[0m\u001b[0mpop\u001b[0m\u001b[0;34m(\u001b[0m\u001b[0mold\u001b[0m\u001b[0;34m)\u001b[0m\u001b[0;34m\u001b[0m\u001b[0;34m\u001b[0m\u001b[0m\n\u001b[0;32m--> 297\u001b[0;31m         \u001b[0;32mreturn\u001b[0m \u001b[0mfunc\u001b[0m\u001b[0;34m(\u001b[0m\u001b[0;34m*\u001b[0m\u001b[0margs\u001b[0m\u001b[0;34m,\u001b[0m \u001b[0;34m**\u001b[0m\u001b[0mkwargs\u001b[0m\u001b[0;34m)\u001b[0m\u001b[0;34m\u001b[0m\u001b[0;34m\u001b[0m\u001b[0m\n\u001b[0m\u001b[1;32m    298\u001b[0m \u001b[0;34m\u001b[0m\u001b[0m\n\u001b[1;32m    299\u001b[0m     \u001b[0;31m# wrapper() must keep the same documented signature as func(): if we\u001b[0m\u001b[0;34m\u001b[0m\u001b[0;34m\u001b[0m\u001b[0m\n",
            "\u001b[0;32m/usr/local/lib/python3.10/dist-packages/matplotlib/axis.py\u001b[0m in \u001b[0;36mset_ticklabels\u001b[0;34m(self, labels, minor, fontdict, **kwargs)\u001b[0m\n\u001b[1;32m   1967\u001b[0m             \u001b[0;31m# remove all tick labels, so only error for > 0 labels\u001b[0m\u001b[0;34m\u001b[0m\u001b[0;34m\u001b[0m\u001b[0m\n\u001b[1;32m   1968\u001b[0m             \u001b[0;32mif\u001b[0m \u001b[0mlen\u001b[0m\u001b[0;34m(\u001b[0m\u001b[0mlocator\u001b[0m\u001b[0;34m.\u001b[0m\u001b[0mlocs\u001b[0m\u001b[0;34m)\u001b[0m \u001b[0;34m!=\u001b[0m \u001b[0mlen\u001b[0m\u001b[0;34m(\u001b[0m\u001b[0mlabels\u001b[0m\u001b[0;34m)\u001b[0m \u001b[0;32mand\u001b[0m \u001b[0mlen\u001b[0m\u001b[0;34m(\u001b[0m\u001b[0mlabels\u001b[0m\u001b[0;34m)\u001b[0m \u001b[0;34m!=\u001b[0m \u001b[0;36m0\u001b[0m\u001b[0;34m:\u001b[0m\u001b[0;34m\u001b[0m\u001b[0;34m\u001b[0m\u001b[0m\n\u001b[0;32m-> 1969\u001b[0;31m                 raise ValueError(\n\u001b[0m\u001b[1;32m   1970\u001b[0m                     \u001b[0;34m\"The number of FixedLocator locations\"\u001b[0m\u001b[0;34m\u001b[0m\u001b[0;34m\u001b[0m\u001b[0m\n\u001b[1;32m   1971\u001b[0m                     \u001b[0;34mf\" ({len(locator.locs)}), usually from a call to\"\u001b[0m\u001b[0;34m\u001b[0m\u001b[0;34m\u001b[0m\u001b[0m\n",
            "\u001b[0;31mValueError\u001b[0m: The number of FixedLocator locations (8), usually from a call to set_ticks, does not match the number of labels (7)."
          ]
        },
        {
          "data": {
            "image/png": "[encoded data removed]",
            "text/plain": [
              "<Figure size 640x480 with 2 Axes>"
            ]
          },
          "metadata": {},
          "output_type": "display_data"
        }
      ],
      "source": [
        "from sklearn.metrics import confusion_matrix, ConfusionMatrixDisplay\n",
        "\n",
        "# Convert predictions to the nearest integer for classification evaluation\n",
        "y_test_class = y_test.round().astype(int)\n",
        "y_pred_class = np.round(y_pred).astype(int)\n",
        "\n",
        "# Confusion matrix for Day of the Week\n",
        "cm_day = confusion_matrix(y_test_class.iloc[:, 1], y_pred_class[:, 1])\n",
        "disp_day = ConfusionMatrixDisplay(confusion_matrix=cm_day, display_labels=range(7))\n",
        "disp_day.plot(cmap=plt.cm.Blues)\n",
        "plt.title('Confusion Matrix for Day of the Week')\n",
        "plt.show()\n",
        "\n",
        "# Confusion matrix for Hour\n",
        "cm_hour = confusion_matrix(y_test_class.iloc[:, 0], y_pred_class[:, 0])\n",
        "disp_hour = ConfusionMatrixDisplay(confusion_matrix=cm_hour, display_labels=range(24))\n",
        "disp_hour.plot(cmap=plt.cm.Blues)\n",
        "plt.title('Confusion Matrix for Hour')\n",
        "plt.show()\n"
      ]
    }
  ],
  "metadata": {
    "colab": {
      "machine_shape": "hm",
      "provenance": []
    },
    "kernelspec": {
      "display_name": "Python 3",
      "name": "python3"
    },
    "language_info": {
      "name": "python"
    }
  },
  "nbformat": 4,
  "nbformat_minor": 0
}